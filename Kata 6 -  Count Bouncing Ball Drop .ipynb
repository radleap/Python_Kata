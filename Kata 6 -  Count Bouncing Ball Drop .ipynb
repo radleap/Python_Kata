{
 "cells": [
  {
   "cell_type": "markdown",
   "id": "located-airplane",
   "metadata": {
    "ExecuteTime": {
     "end_time": "2021-06-14T16:58:51.913082Z",
     "start_time": "2021-06-14T16:58:51.900116Z"
    }
   },
   "source": [
    "# Kata - 6 Count Bouncing Ball Drop \n",
    "\n",
    "https://www.codewars.com/kata/5544c7a5cb454edb3c000047/train/python"
   ]
  },
  {
   "cell_type": "markdown",
   "id": "outstanding-heath",
   "metadata": {},
   "source": [
    "A child is playing with a ball on the nth floor of a tall building. The height of this floor, h, is known.\n",
    "\n",
    "He drops the ball out of the window. The ball bounces (for example), to two-thirds of its height (a bounce of 0.66).\n",
    "\n",
    "His mother looks out of a window 1.5 meters from the ground.\n",
    "\n",
    "How many times will the mother see the ball pass in front of her window (including when it's falling and bouncing?\n",
    "\n",
    "Three conditions must be met for a valid experiment:\n",
    "- Float parameter \"h\" in meters must be greater than 0\n",
    "- Float parameter \"bounce\" must be greater than 0 and less than 1\n",
    "- Float parameter \"window\" must be less than h.\n",
    "\n",
    "If all three conditions above are fulfilled, return a positive integer, otherwise return -1.\n",
    "\n",
    "Note:\n",
    "The ball can only be seen if the height of the rebounding ball is strictly greater than the window parameter.\n",
    "\n",
    "### examples\n",
    "- h = 3, bounce = 0.66, window = 1.5, result is 3\n",
    "\n",
    "- h = 3, bounce = 1, window = 1.5, result is -1 \n",
    "\n",
    "(Condition 2) not fulfilled)."
   ]
  },
  {
   "cell_type": "markdown",
   "id": "alternative-turkey",
   "metadata": {},
   "source": [
    "def bouncing_ball(h, bounce, window):\n",
    "    # your code\n",
    "    return -1"
   ]
  },
  {
   "cell_type": "code",
   "execution_count": 1,
   "id": "checked-tutorial",
   "metadata": {
    "ExecuteTime": {
     "end_time": "2021-06-14T16:59:40.861637Z",
     "start_time": "2021-06-14T16:59:40.831906Z"
    }
   },
   "outputs": [
    {
     "data": {
      "text/plain": [
       "15"
      ]
     },
     "execution_count": 1,
     "metadata": {},
     "output_type": "execute_result"
    }
   ],
   "source": [
    "# Accepted solution\n",
    "\n",
    "def bouncing_ball(h, bounce, window):\n",
    "    # Checking initial conditions\n",
    "    if (h < 0) or (bounce <= 0 or bounce >= 1) or (h <= window):        \n",
    "        return -1\n",
    "    # If conditions pass, running bouncing logic and return count\n",
    "    count = 1\n",
    "    while h > window:\n",
    "        h = h * bounce\n",
    "        if h > window:\n",
    "            count += 2            \n",
    "    return(count)\n",
    "# testing\n",
    "bouncing_ball(h = 30, bounce = 0.66, window = 1.5)"
   ]
  },
  {
   "cell_type": "code",
   "execution_count": 2,
   "id": "legislative-button",
   "metadata": {
    "ExecuteTime": {
     "end_time": "2021-06-14T16:59:40.877594Z",
     "start_time": "2021-06-14T16:59:40.863657Z"
    }
   },
   "outputs": [],
   "source": [
    "assert bouncing_ball(3, 0.66, 1.5) == 3, \"should be 3\"\n",
    "assert bouncing_ball(30, 0.66, 1.5) == 15, \"should be 15\""
   ]
  }
 ],
 "metadata": {
  "kernelspec": {
   "display_name": "Python 3",
   "language": "python",
   "name": "python3"
  },
  "language_info": {
   "codemirror_mode": {
    "name": "ipython",
    "version": 3
   },
   "file_extension": ".py",
   "mimetype": "text/x-python",
   "name": "python",
   "nbconvert_exporter": "python",
   "pygments_lexer": "ipython3",
   "version": "3.7.3"
  }
 },
 "nbformat": 4,
 "nbformat_minor": 5
}
