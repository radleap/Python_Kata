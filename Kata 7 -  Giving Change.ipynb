{
 "cells": [
  {
   "cell_type": "markdown",
   "id": "located-airplane",
   "metadata": {
    "ExecuteTime": {
     "end_time": "2021-06-14T16:58:51.913082Z",
     "start_time": "2021-06-14T16:58:51.900116Z"
    }
   },
   "source": [
    "# Kata 7 - Giving Change \n",
    "\n",
    "https://www.codewars.com/kata/555615a77ebc7c2c8a0000b8/train/python"
   ]
  },
  {
   "cell_type": "markdown",
   "id": "outstanding-heath",
   "metadata": {},
   "source": [
    "### Instructions\n",
    "The new \"Avengers\" movie has just been released! There are a lot of people at the cinema box office standing in a huge line. Each of them has a single 100, 50 or 25 dollar bill. An \"Avengers\" ticket costs 25 dollars.\n",
    "\n",
    "Vasya is currently working as a clerk. He wants to sell a ticket to every single person in this line.\n",
    "\n",
    "Can Vasya sell a ticket to every person and give change if he **initially has no money** and **sells the tickets strictly in the order people queue**?\n",
    "\n",
    "Return **YES**, if Vasya can sell a ticket to every person and give change with the bills he has at hand at that moment. Otherwise return **NO**.\n",
    "\n",
    "### Examples\n",
    "- tickets([25, 25, 50]) # => YES \n",
    "- tickets([25, 100]) # => NO. Vasya will not have enough money to give change to 100 dollars\n",
    "- tickets([25, 25, 50, 50, 100]) # => NO. Vasya will not have the right bills to give 75 dollars of change (you can't make two bills of 25 from one of 50)"
   ]
  },
  {
   "cell_type": "markdown",
   "id": "alternative-turkey",
   "metadata": {},
   "source": [
    "def tickets(people):\n",
    "    return \"?\""
   ]
  },
  {
   "cell_type": "code",
   "execution_count": 1,
   "id": "expected-valentine",
   "metadata": {
    "ExecuteTime": {
     "end_time": "2021-06-14T21:13:24.415089Z",
     "start_time": "2021-06-14T21:13:24.401420Z"
    }
   },
   "outputs": [],
   "source": [
    "ticks = [25, 25, 25, 50, 100]\n",
    "\n",
    "def tickets(people):\n",
    "    \n",
    "    change = {25:0,\n",
    "              50:0,\n",
    "              100:0}\n",
    "    if people == [50]:\n",
    "        return('YES')\n",
    "    \n",
    "    for i in people:\n",
    "        if i == 25:               #no change needed (nor in the last instance so continue okay)\n",
    "            change[25] +=1\n",
    "            \n",
    "        elif i == 50:             #need change 25$, if not fail\n",
    "            if change[25] >0: \n",
    "                change[25] -= 1\n",
    "                change[50] += 1\n",
    "            else:\n",
    "                return(\"NO\")    \n",
    "            \n",
    "        elif i == 100:            # change need (25 and 25 and 25) or (25 and 50)\n",
    "            if change[50]>= 1 and change[25]>=1:\n",
    "                change[50] -= 1\n",
    "                change[25] -= 1\n",
    "                change[100] += 1\n",
    "            elif (change[25]  >= 3): # this needs to occur second because is smaler bills\n",
    "                change[25]  -= 3\n",
    "                change[100] += 1\n",
    "            else:\n",
    "                return(\"NO\")\n",
    "        else:\n",
    "            return(\"No\")\n",
    "    return(\"YES\")"
   ]
  },
  {
   "cell_type": "code",
   "execution_count": 2,
   "id": "reduced-wilson",
   "metadata": {
    "ExecuteTime": {
     "end_time": "2021-06-14T21:13:24.431090Z",
     "start_time": "2021-06-14T21:13:24.417607Z"
    }
   },
   "outputs": [
    {
     "name": "stdout",
     "output_type": "stream",
     "text": [
      "YES\n",
      "NO\n",
      "NO\n",
      "YES\n",
      "YES\n"
     ]
    }
   ],
   "source": [
    "print(tickets([25, 25, 50])) #yes\n",
    "print(tickets([25, 100])) #no \n",
    "print(tickets([25, 25, 50, 50, 100])) # no\n",
    "print(tickets([25,25,50,50])) # yes\n",
    "print(tickets([25,25,25,25,50,100,50])) # yes"
   ]
  },
  {
   "cell_type": "code",
   "execution_count": 3,
   "id": "australian-demographic",
   "metadata": {
    "ExecuteTime": {
     "end_time": "2021-06-14T21:13:24.462514Z",
     "start_time": "2021-06-14T21:13:24.434081Z"
    }
   },
   "outputs": [],
   "source": [
    "# refactored solution\n",
    "\n",
    "def tickets(people):\n",
    "    till = {100.0:0, 50.0:0, 25.0:0}\n",
    "\n",
    "    for paid in people:\n",
    "        till[paid] += 1\n",
    "        change = paid-25.0\n",
    "    \n",
    "    for bill in (50,25):\n",
    "        while (bill <= change and till[bill] > 0):\n",
    "            till[bill] -= 1\n",
    "            change -= bill\n",
    "\n",
    "    if change != 0:\n",
    "         return 'NO'\n",
    "        \n",
    "    return 'YES'"
   ]
  }
 ],
 "metadata": {
  "kernelspec": {
   "display_name": "Python 3",
   "language": "python",
   "name": "python3"
  },
  "language_info": {
   "codemirror_mode": {
    "name": "ipython",
    "version": 3
   },
   "file_extension": ".py",
   "mimetype": "text/x-python",
   "name": "python",
   "nbconvert_exporter": "python",
   "pygments_lexer": "ipython3",
   "version": "3.7.3"
  }
 },
 "nbformat": 4,
 "nbformat_minor": 5
}
