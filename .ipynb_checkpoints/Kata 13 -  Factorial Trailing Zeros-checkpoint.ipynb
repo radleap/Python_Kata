{
 "cells": [
  {
   "cell_type": "markdown",
   "id": "located-airplane",
   "metadata": {
    "ExecuteTime": {
     "end_time": "2021-06-14T16:58:51.913082Z",
     "start_time": "2021-06-14T16:58:51.900116Z"
    }
   },
   "source": [
    "# Kata 13 -  Factorial Trailing Zeros\n",
    "\n",
    "https://www.codewars.com/kata/525f3eda17c7cd9f9e000b39/python"
   ]
  },
  {
   "cell_type": "markdown",
   "id": "outstanding-heath",
   "metadata": {},
   "source": [
    "### Instructions\n",
    "Write a program that will calculate the number of trailing zeros in a factorial of a given number.\n",
    "\n",
    "N! = 1 * 2 * 3 * ... * N\n",
    "\n",
    "Be careful 1000! has 2568 digits...\n",
    "\n",
    "For more info, see: http://mathworld.wolfram.com/Factorial.html\n",
    "\n",
    "Hint: You're not meant to calculate the factorial. Find another way to find the number of zeros.\n",
    "\n",
    "### Examples\n",
    "- zeros(6) = 1\n",
    "    -  6! = 1 * 2 * 3 * 4 * 5 * 6 = 720 --> 1 trailing zero\n",
    "- zeros(12) = 2\n",
    "    -  12! = 479001600 --> 2 trailing zeros"
   ]
  },
  {
   "cell_type": "code",
   "execution_count": 1,
   "id": "fallen-public",
   "metadata": {
    "ExecuteTime": {
     "end_time": "2021-06-21T17:34:27.181304Z",
     "start_time": "2021-06-21T17:34:27.175323Z"
    }
   },
   "outputs": [],
   "source": [
    "# Accepted Solution\n",
    "\n",
    "import math\n",
    "\n",
    "def zeros(n):\n",
    "    if n == 0:\n",
    "        return 0\n",
    "    else:\n",
    "        kmax = math.floor(math.log(n,5))\n",
    "        zeta = 0\n",
    "        for k in range(1,kmax+1):\n",
    "            zeta += math.floor(n/(5**k))\n",
    "        return(zeta)"
   ]
  },
  {
   "cell_type": "code",
   "execution_count": 2,
   "id": "careful-yield",
   "metadata": {
    "ExecuteTime": {
     "end_time": "2021-06-21T17:34:27.213220Z",
     "start_time": "2021-06-21T17:34:27.183299Z"
    }
   },
   "outputs": [],
   "source": [
    "# Accepted Solution\n",
    "\n",
    "import math\n",
    "\n",
    "def zeros(n):\n",
    "    if n == 0: return(0)\n",
    "    else:\n",
    "        kmax = math.floor(math.log(n,5))\n",
    "    return(sum([math.floor(n/(5**k)) for k in range(1,kmax+1)]))"
   ]
  },
  {
   "cell_type": "code",
   "execution_count": 3,
   "id": "encouraging-albert",
   "metadata": {
    "ExecuteTime": {
     "end_time": "2021-06-21T17:34:27.243645Z",
     "start_time": "2021-06-21T17:34:27.216212Z"
    }
   },
   "outputs": [
    {
     "name": "stdout",
     "output_type": "stream",
     "text": [
      "12696403353658275925965100847566516959580321051449436762275840000000000000\n"
     ]
    },
    {
     "data": {
      "text/plain": [
       "13"
      ]
     },
     "execution_count": 3,
     "metadata": {},
     "output_type": "execute_result"
    }
   ],
   "source": [
    "# test\n",
    "test = 55\n",
    "print(math.factorial(test))\n",
    "zeros(test)"
   ]
  },
  {
   "cell_type": "code",
   "execution_count": 4,
   "id": "canadian-metropolitan",
   "metadata": {
    "ExecuteTime": {
     "end_time": "2021-06-21T17:34:27.259623Z",
     "start_time": "2021-06-21T17:34:27.245639Z"
    }
   },
   "outputs": [],
   "source": [
    "# alternative solution\n",
    "def zeros(n):\n",
    "    \"\"\"\n",
    "    No factorial is going to have fewer zeros than the factorial of a smaller\n",
    "    number.\n",
    "\n",
    "    Each multiple of 5 adds a 0, so first we count how many multiples of 5 are\n",
    "    smaller than `n` (`n // 5`).\n",
    "\n",
    "    Each multiple of 25 adds two 0's, so next we add another 0 for each multiple\n",
    "    of 25 smaller than n.\n",
    "\n",
    "    We continue on for all powers of 5 smaller than (or equal to) n.\n",
    "    \"\"\"\n",
    "    pow_of_5 = 5\n",
    "    zeros = 0\n",
    "    \n",
    "    while n >= pow_of_5:\n",
    "        zeros += n // pow_of_5\n",
    "        pow_of_5 *= 5\n",
    "        \n",
    "    return zeros"
   ]
  },
  {
   "cell_type": "markdown",
   "id": "checked-legend",
   "metadata": {},
   "source": [
    "# Resources\n",
    "https://www.geeksforgeeks.org/log-functions-python/"
   ]
  },
  {
   "cell_type": "code",
   "execution_count": 5,
   "id": "patent-annotation",
   "metadata": {
    "ExecuteTime": {
     "end_time": "2021-06-21T17:34:27.275560Z",
     "start_time": "2021-06-21T17:34:27.261599Z"
    }
   },
   "outputs": [
    {
     "name": "stdout",
     "output_type": "stream",
     "text": [
      "Logarithm base 5 of 14 is : 1.6397385131955606\n"
     ]
    },
    {
     "data": {
      "text/plain": [
       "14.0"
      ]
     },
     "execution_count": 5,
     "metadata": {},
     "output_type": "execute_result"
    }
   ],
   "source": [
    "# Printing the log base 5 of 14\n",
    "print (\"Logarithm base 5 of 14 is : \", end=\"\")\n",
    "print (math.log(14,5))\n",
    "5**math.log(14,5)"
   ]
  },
  {
   "cell_type": "code",
   "execution_count": 6,
   "id": "unexpected-customs",
   "metadata": {
    "ExecuteTime": {
     "end_time": "2021-06-21T17:34:27.307508Z",
     "start_time": "2021-06-21T17:34:27.277555Z"
    }
   },
   "outputs": [
    {
     "name": "stdout",
     "output_type": "stream",
     "text": [
      "The factorial of 23 is : 25852016738884976640000\n"
     ]
    }
   ],
   "source": [
    "n = 23\n",
    "fact = 1\n",
    "  \n",
    "for i in range(1,n+1):\n",
    "    fact = fact * i\n",
    "      \n",
    "print (\"The factorial of 23 is : \",end=\"\")\n",
    "print (fact)"
   ]
  },
  {
   "cell_type": "code",
   "execution_count": 7,
   "id": "rough-cooking",
   "metadata": {
    "ExecuteTime": {
     "end_time": "2021-06-21T17:34:27.322435Z",
     "start_time": "2021-06-21T17:34:27.309481Z"
    }
   },
   "outputs": [
    {
     "name": "stdout",
     "output_type": "stream",
     "text": [
      "The factorial of 23 is : 25852016738884976640000\n"
     ]
    }
   ],
   "source": [
    "# Python code to demonstrate math.factorial()\n",
    "import math\n",
    "  \n",
    "print (\"The factorial of 23 is : \", end=\"\")\n",
    "print (math.factorial(23))"
   ]
  },
  {
   "cell_type": "code",
   "execution_count": 8,
   "id": "answering-perry",
   "metadata": {
    "ExecuteTime": {
     "end_time": "2021-06-21T17:34:27.353723Z",
     "start_time": "2021-06-21T17:34:27.325428Z"
    }
   },
   "outputs": [
    {
     "name": "stdout",
     "output_type": "stream",
     "text": [
      "math.floor(-23.11) :  -24\n",
      "math.floor(300.16) :  300\n",
      "math.floor(300.72) :  300\n"
     ]
    }
   ],
   "source": [
    "# This will import math module\n",
    "import math  \n",
    " \n",
    "# prints the ceil using floor() method\n",
    "print(\"math.floor(-23.11) : \", math.floor(-23.11))\n",
    "print(\"math.floor(300.16) : \", math.floor(300.16))\n",
    "print(\"math.floor(300.72) : \", math.floor(300.72))"
   ]
  }
 ],
 "metadata": {
  "kernelspec": {
   "display_name": "Python 3",
   "language": "python",
   "name": "python3"
  },
  "language_info": {
   "codemirror_mode": {
    "name": "ipython",
    "version": 3
   },
   "file_extension": ".py",
   "mimetype": "text/x-python",
   "name": "python",
   "nbconvert_exporter": "python",
   "pygments_lexer": "ipython3",
   "version": "3.7.3"
  }
 },
 "nbformat": 4,
 "nbformat_minor": 5
}
