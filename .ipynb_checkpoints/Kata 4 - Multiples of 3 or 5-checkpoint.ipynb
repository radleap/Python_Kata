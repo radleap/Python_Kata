{
 "cells": [
  {
   "cell_type": "markdown",
   "id": "simple-honey",
   "metadata": {},
   "source": [
    "# Kata 4 - Multiples of 3 or 5\n",
    "\n",
    "https://www.codewars.com/kata/514b92a657cdc65150000006/train/python"
   ]
  },
  {
   "cell_type": "markdown",
   "id": "opposed-velvet",
   "metadata": {},
   "source": [
    "If we list all the natural numbers below 10 that are multiples of 3 or 5, we get 3, 5, 6 and 9. The sum of these multiples is 23.\n",
    "\n",
    "Finish the solution so that it returns the sum of all the multiples of 3 or 5 below the number passed in.\n",
    "\n",
    "Note: If the number is a multiple of both 3 and 5, only count it once. Also, if a number is negative, return 0(for languages that do have them)\n",
    "\n"
   ]
  },
  {
   "cell_type": "code",
   "execution_count": 1,
   "id": "union-fossil",
   "metadata": {
    "ExecuteTime": {
     "end_time": "2021-06-11T19:21:21.924458Z",
     "start_time": "2021-06-11T19:21:21.645794Z"
    }
   },
   "outputs": [
    {
     "data": {
      "text/plain": [
       "23"
      ]
     },
     "execution_count": 1,
     "metadata": {},
     "output_type": "execute_result"
    }
   ],
   "source": [
    "# accepted solution\n",
    "import numpy as np\n",
    "\n",
    "def solution(number):\n",
    "    l =[]\n",
    "    for x in np.arange(number):\n",
    "        if x % 3 == 0 or x % 5 == 0:\n",
    "            l.append(x)\n",
    "    return(sum(l))\n",
    "solution(10)"
   ]
  },
  {
   "cell_type": "code",
   "execution_count": 2,
   "id": "opposite-grave",
   "metadata": {
    "ExecuteTime": {
     "end_time": "2021-06-11T19:21:21.940419Z",
     "start_time": "2021-06-11T19:21:21.928672Z"
    }
   },
   "outputs": [
    {
     "data": {
      "text/plain": [
       "23"
      ]
     },
     "execution_count": 2,
     "metadata": {},
     "output_type": "execute_result"
    }
   ],
   "source": [
    "# accepted solution, no numpy\n",
    "def solution(number):\n",
    "    l =[]\n",
    "    for x in range(number):\n",
    "        if x % 3 == 0 or x % 5 == 0:\n",
    "            l.append(x)\n",
    "    return(sum(l))\n",
    "solution(10)"
   ]
  },
  {
   "cell_type": "code",
   "execution_count": 3,
   "id": "requested-sending",
   "metadata": {
    "ExecuteTime": {
     "end_time": "2021-06-11T19:21:22.018857Z",
     "start_time": "2021-06-11T19:21:21.945159Z"
    }
   },
   "outputs": [
    {
     "data": {
      "text/plain": [
       "23"
      ]
     },
     "execution_count": 3,
     "metadata": {},
     "output_type": "execute_result"
    }
   ],
   "source": [
    "# alternative solution, concise\n",
    "def solution(number):\n",
    "    return sum([x for x in range(number) if x % 3 == 0 or x % 5 == 0])\n",
    "solution(10)"
   ]
  }
 ],
 "metadata": {
  "kernelspec": {
   "display_name": "Python 3",
   "language": "python",
   "name": "python3"
  },
  "language_info": {
   "codemirror_mode": {
    "name": "ipython",
    "version": 3
   },
   "file_extension": ".py",
   "mimetype": "text/x-python",
   "name": "python",
   "nbconvert_exporter": "python",
   "pygments_lexer": "ipython3",
   "version": "3.7.3"
  }
 },
 "nbformat": 4,
 "nbformat_minor": 5
}
