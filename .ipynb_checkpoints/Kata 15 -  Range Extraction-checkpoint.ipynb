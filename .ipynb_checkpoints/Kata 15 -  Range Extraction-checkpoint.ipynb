{
 "cells": [
  {
   "cell_type": "markdown",
   "id": "located-airplane",
   "metadata": {
    "ExecuteTime": {
     "end_time": "2021-06-14T16:58:51.913082Z",
     "start_time": "2021-06-14T16:58:51.900116Z"
    }
   },
   "source": [
    "# Kata 15 - Range Extraction\n",
    "\n",
    "https://www.codewars.com/kata/51ba717bb08c1cd60f00002f/train/python"
   ]
  },
  {
   "cell_type": "markdown",
   "id": "outstanding-heath",
   "metadata": {},
   "source": [
    "### Instructions\n",
    "A format for expressing an ordered list of integers is to use a comma separated list of either \n",
    "\n",
    "- individual integers\n",
    "- or a range of integers denoted by the starting integer separated from the end integer in the range by a dash, '-'. The range includes all integers in the interval including both endpoints. It is not considered a range unless it spans at least 3 numbers. For example \"12,13,15-17\"\n",
    "\n",
    "Complete the solution so that it takes a list of integers in increasing order and returns a correctly formatted string in the range format.\n",
    "\n",
    "### Examples\n",
    "- solution([-6, -3, -2, -1, 0, 1, 3, 4, 5, 7, 8, 9, 10, 11, 14, 15, 17, 18, 19, 20])\n",
    "- returns \"-6,-3-1,3-5,7-11,14,15,17-20\"\n"
   ]
  },
  {
   "cell_type": "code",
   "execution_count": 15,
   "id": "auburn-house",
   "metadata": {
    "ExecuteTime": {
     "end_time": "2021-06-29T00:57:04.784524Z",
     "start_time": "2021-06-29T00:57:04.232028Z"
    }
   },
   "outputs": [],
   "source": [
    "import numpy as np\n",
    "\n",
    "def solution(args):\n",
    "    pass\n",
    "    # your code here"
   ]
  },
  {
   "cell_type": "code",
   "execution_count": 16,
   "id": "mighty-cliff",
   "metadata": {
    "ExecuteTime": {
     "end_time": "2021-06-29T00:57:05.535145Z",
     "start_time": "2021-06-29T00:57:05.520581Z"
    }
   },
   "outputs": [
    {
     "data": {
      "text/plain": [
       "array([False, False, False])"
      ]
     },
     "execution_count": 16,
     "metadata": {},
     "output_type": "execute_result"
    }
   ],
   "source": [
    "import numpy as np\n",
    "a = np.array(['c','d','e'])\n",
    "b = np.array(['f','g','h'])\n",
    "# a.index('e')\n",
    "a == b"
   ]
  },
  {
   "cell_type": "code",
   "execution_count": 36,
   "id": "minimal-touch",
   "metadata": {
    "ExecuteTime": {
     "end_time": "2021-06-29T01:23:49.668350Z",
     "start_time": "2021-06-29T01:23:49.645519Z"
    }
   },
   "outputs": [
    {
     "data": {
      "text/plain": [
       "array([-6, -3, -2, -1,  0,  1,  3,  4,  5,  7,  8,  9, 10, 11, 14, 15, 17,\n",
       "       18, 19, 20])"
      ]
     },
     "metadata": {},
     "output_type": "display_data"
    },
    {
     "data": {
      "text/plain": [
       "array([-6, -5, -4, -3, -2, -1,  0,  1,  2,  3,  4,  5,  6,  7,  8,  9, 10,\n",
       "       11, 12, 13, 14, 15, 16, 17, 18, 19])"
      ]
     },
     "metadata": {},
     "output_type": "display_data"
    }
   ],
   "source": [
    "original = np.array([-6, -3, -2, -1, 0, 1, 3, 4, 5, 7, 8, 9, 10, 11, 14, 15, 17, 18, 19, 20])\n",
    "display(original)\n",
    "complete = np.array(list(range(min(original),max(original),1)))\n",
    "display(complete)"
   ]
  },
  {
   "cell_type": "code",
   "execution_count": 54,
   "id": "separate-knowing",
   "metadata": {
    "ExecuteTime": {
     "end_time": "2021-06-29T01:33:52.500996Z",
     "start_time": "2021-06-29T01:33:52.474113Z"
    }
   },
   "outputs": [
    {
     "data": {
      "text/plain": [
       "array([ True, False, False,  True,  True,  True,  True,  True, False,\n",
       "        True,  True,  True, False,  True,  True,  True,  True,  True,\n",
       "       False, False,  True,  True, False,  True,  True,  True])"
      ]
     },
     "execution_count": 54,
     "metadata": {},
     "output_type": "execute_result"
    }
   ],
   "source": [
    "new = []\n",
    "for ind,val in enumerate(complete):\n",
    "    if val in original:\n",
    "        new.append(val)\n",
    "    else:\n",
    "        new.append(0)\n",
    "\n",
    "new == complete"
   ]
  },
  {
   "cell_type": "code",
   "execution_count": null,
   "id": "devoted-norfolk",
   "metadata": {},
   "outputs": [],
   "source": []
  },
  {
   "cell_type": "code",
   "execution_count": 26,
   "id": "helpful-component",
   "metadata": {
    "ExecuteTime": {
     "end_time": "2021-06-29T01:11:26.133048Z",
     "start_time": "2021-06-29T01:11:26.108080Z"
    }
   },
   "outputs": [
    {
     "ename": "IndexError",
     "evalue": "index 20 is out of bounds for axis 0 with size 20",
     "output_type": "error",
     "traceback": [
      "\u001b[1;31m---------------------------------------------------------------------------\u001b[0m",
      "\u001b[1;31mIndexError\u001b[0m                                Traceback (most recent call last)",
      "\u001b[1;32m<ipython-input-26-1491e9cb6f4d>\u001b[0m in \u001b[0;36m<module>\u001b[1;34m\u001b[0m\n\u001b[0;32m      1\u001b[0m \u001b[0mu\u001b[0m \u001b[1;33m=\u001b[0m \u001b[1;33m[\u001b[0m\u001b[1;33m]\u001b[0m\u001b[1;33m\u001b[0m\u001b[1;33m\u001b[0m\u001b[0m\n\u001b[0;32m      2\u001b[0m \u001b[1;32mfor\u001b[0m \u001b[0mind\u001b[0m\u001b[1;33m,\u001b[0m\u001b[0mval\u001b[0m \u001b[1;32min\u001b[0m \u001b[0menumerate\u001b[0m\u001b[1;33m(\u001b[0m\u001b[0moriginal\u001b[0m\u001b[1;33m)\u001b[0m\u001b[1;33m:\u001b[0m\u001b[1;33m\u001b[0m\u001b[1;33m\u001b[0m\u001b[0m\n\u001b[1;32m----> 3\u001b[1;33m     \u001b[1;32mif\u001b[0m \u001b[0moriginal\u001b[0m\u001b[1;33m[\u001b[0m\u001b[0mind\u001b[0m\u001b[1;33m+\u001b[0m\u001b[1;36m1\u001b[0m\u001b[1;33m]\u001b[0m \u001b[1;33m!=\u001b[0m \u001b[0mval\u001b[0m \u001b[1;33m+\u001b[0m\u001b[1;36m1\u001b[0m\u001b[1;33m:\u001b[0m\u001b[1;33m\u001b[0m\u001b[1;33m\u001b[0m\u001b[0m\n\u001b[0m\u001b[0;32m      4\u001b[0m         \u001b[0mu\u001b[0m\u001b[1;33m.\u001b[0m\u001b[0mappend\u001b[0m\u001b[1;33m(\u001b[0m\u001b[0mval\u001b[0m\u001b[1;33m)\u001b[0m\u001b[1;33m\u001b[0m\u001b[1;33m\u001b[0m\u001b[0m\n\u001b[0;32m      5\u001b[0m     \u001b[1;32mif\u001b[0m \u001b[1;33m(\u001b[0m\u001b[0moriginal\u001b[0m\u001b[1;33m[\u001b[0m\u001b[0mind\u001b[0m\u001b[1;33m+\u001b[0m\u001b[1;36m1\u001b[0m\u001b[1;33m]\u001b[0m \u001b[1;33m==\u001b[0m \u001b[0mval\u001b[0m \u001b[1;33m+\u001b[0m\u001b[1;36m1\u001b[0m\u001b[1;33m)\u001b[0m\u001b[1;33m:\u001b[0m\u001b[1;33m\u001b[0m\u001b[1;33m\u001b[0m\u001b[0m\n",
      "\u001b[1;31mIndexError\u001b[0m: index 20 is out of bounds for axis 0 with size 20"
     ]
    }
   ],
   "source": [
    "u = []\n",
    "for ind,val in enumerate(original):\n",
    "    if original[ind+1] != val +1:\n",
    "        u.append(val)\n",
    "    if (original[ind+1] == val +1):\n",
    "        u.append(val)\n",
    "        u.append(val+1)\n",
    "\n",
    "u"
   ]
  },
  {
   "cell_type": "code",
   "execution_count": null,
   "id": "educated-growing",
   "metadata": {},
   "outputs": [],
   "source": []
  },
  {
   "cell_type": "code",
   "execution_count": null,
   "id": "confidential-hospital",
   "metadata": {},
   "outputs": [],
   "source": []
  },
  {
   "cell_type": "code",
   "execution_count": 37,
   "id": "resident-notebook",
   "metadata": {
    "ExecuteTime": {
     "end_time": "2021-06-29T01:26:11.603817Z",
     "start_time": "2021-06-29T01:26:11.587192Z"
    }
   },
   "outputs": [
    {
     "name": "stdout",
     "output_type": "stream",
     "text": [
      "-6 next needed:  -5\n",
      "-3 \n",
      "\n",
      "next ind:  -3\n",
      "-3 next needed:  -2\n",
      "-2 \n",
      "\n",
      "next ind:  -2\n",
      "-2 next needed:  -1\n",
      "-1 \n",
      "\n",
      "next ind:  -1\n",
      "-1 next needed:  0\n"
     ]
    }
   ],
   "source": [
    "n = [-6, -3, -2, -1]\n",
    "\n",
    "for ind,val in enumerate(n):\n",
    "    try:\n",
    "        next_needed = val + 1 \n",
    "        print(val,\"next needed: \", val+1)\n",
    "        print(n[ind+1], \"\\n\")\n",
    "        print(\"next ind: \", n[ind+1])\n",
    "    except: \n",
    "        pass\n",
    "    "
   ]
  },
  {
   "cell_type": "code",
   "execution_count": 26,
   "id": "adapted-ivory",
   "metadata": {
    "ExecuteTime": {
     "end_time": "2021-06-28T23:20:50.968064Z",
     "start_time": "2021-06-28T23:20:50.934124Z"
    }
   },
   "outputs": [
    {
     "name": "stderr",
     "output_type": "stream",
     "text": [
      "C:\\Users\\guy\\.conda\\envs\\deeplearning\\lib\\site-packages\\ipykernel_launcher.py:2: DeprecationWarning: elementwise comparison failed; this will raise an error in the future.\n",
      "  \n"
     ]
    },
    {
     "data": {
      "text/plain": [
       "False"
      ]
     },
     "execution_count": 26,
     "metadata": {},
     "output_type": "execute_result"
    }
   ],
   "source": [
    "complete = list(range(min(original),max(original),1))\n",
    "complete == original"
   ]
  },
  {
   "cell_type": "code",
   "execution_count": 17,
   "id": "regulated-device",
   "metadata": {
    "ExecuteTime": {
     "end_time": "2021-06-28T23:14:45.994539Z",
     "start_time": "2021-06-28T23:14:45.975632Z"
    }
   },
   "outputs": [
    {
     "name": "stdout",
     "output_type": "stream",
     "text": [
      "0 -6\n",
      "1 -3\n",
      "2 -2\n",
      "3 -1\n",
      "4 0\n",
      "5 1\n",
      "6 3\n",
      "7 4\n",
      "8 5\n",
      "9 7\n",
      "10 8\n",
      "11 9\n",
      "12 10\n",
      "13 11\n",
      "14 14\n",
      "15 15\n",
      "16 17\n",
      "17 18\n",
      "18 19\n",
      "19 20\n"
     ]
    }
   ],
   "source": [
    "original = [-6, -3, -2, -1, 0, 1, 3, 4, 5, 7, 8, 9, 10, 11, 14, 15, 17, 18, 19, 20]\n",
    "complete = range(min(original),max(original),1)\n",
    "\n",
    "new = []\n",
    "object_length = 3 \n",
    "for ind, numb in enumerate(original):\n",
    "    if numb in original:\n",
    "        print(ind, numb) #### if i + 1 in complete, then check again, and again, else stop. If less than 3 then add each sep, else a range\n",
    "        else: pass"
   ]
  },
  {
   "cell_type": "code",
   "execution_count": 7,
   "id": "together-learning",
   "metadata": {
    "ExecuteTime": {
     "end_time": "2021-06-28T22:37:21.373141Z",
     "start_time": "2021-06-28T22:37:21.353007Z"
    }
   },
   "outputs": [
    {
     "name": "stdout",
     "output_type": "stream",
     "text": [
      "-6\n",
      "-5\n",
      "-4\n",
      "-3\n",
      "-2\n",
      "-1\n",
      "0\n",
      "1\n",
      "2\n",
      "3\n",
      "4\n",
      "5\n",
      "6\n",
      "7\n",
      "8\n",
      "9\n",
      "10\n",
      "11\n",
      "12\n",
      "13\n",
      "14\n",
      "15\n",
      "16\n",
      "17\n",
      "18\n",
      "19\n"
     ]
    }
   ],
   "source": [
    "for i in range(min(test),max(test),1):\n",
    "    print(i)"
   ]
  },
  {
   "cell_type": "markdown",
   "id": "checked-legend",
   "metadata": {},
   "source": [
    "# Resources\n",
    "\n"
   ]
  },
  {
   "cell_type": "code",
   "execution_count": null,
   "id": "blank-governor",
   "metadata": {},
   "outputs": [],
   "source": []
  }
 ],
 "metadata": {
  "kernelspec": {
   "display_name": "Python 3",
   "language": "python",
   "name": "python3"
  },
  "language_info": {
   "codemirror_mode": {
    "name": "ipython",
    "version": 3
   },
   "file_extension": ".py",
   "mimetype": "text/x-python",
   "name": "python",
   "nbconvert_exporter": "python",
   "pygments_lexer": "ipython3",
   "version": "3.7.3"
  }
 },
 "nbformat": 4,
 "nbformat_minor": 5
}
