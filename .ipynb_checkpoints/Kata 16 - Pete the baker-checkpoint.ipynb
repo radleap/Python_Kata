{
 "cells": [
  {
   "cell_type": "markdown",
   "id": "located-airplane",
   "metadata": {
    "ExecuteTime": {
     "end_time": "2021-06-14T16:58:51.913082Z",
     "start_time": "2021-06-14T16:58:51.900116Z"
    }
   },
   "source": [
    "# Kata 16 - Pete the baker\n",
    "https://www.codewars.com/kata/525c65e51bf619685c000059/train/python"
   ]
  },
  {
   "cell_type": "markdown",
   "id": "outstanding-heath",
   "metadata": {},
   "source": [
    "### Instructions\n",
    "Pete likes to bake some cakes. He has some recipes and ingredients. Unfortunately he is not good in maths. Can you help him to find out, how many cakes he could bake considering his recipes?\n",
    "\n",
    "Write a function cakes(), which takes the recipe (object) and the available ingredients (also an object) and returns the maximum number of cakes Pete can bake (integer). For simplicity there are no units for the amounts (e.g. 1 lb of flour or 200 g of sugar are simply 1 or 200). Ingredients that are not present in the objects, can be considered as 0.\n",
    "\n",
    "### Examples\n",
    "- must return 2\n",
    "- cakes({flour: 500, sugar: 200, eggs: 1}, {flour: 1200, sugar: 1200, eggs: 5, milk: 200})\n",
    "\n",
    "\n",
    "-  must return 0\n",
    "- cakes({apples: 3, flour: 300, sugar: 150, milk: 100, oil: 100}, {sugar: 500, flour: 2000, milk: 2000})\n"
   ]
  },
  {
   "cell_type": "code",
   "execution_count": 1,
   "id": "subtle-blake",
   "metadata": {
    "ExecuteTime": {
     "end_time": "2021-07-05T18:10:01.487396Z",
     "start_time": "2021-07-05T18:10:01.354385Z"
    }
   },
   "outputs": [],
   "source": [
    "# accepted solution\n",
    "import numpy as np\n",
    "import math\n",
    "\n",
    "def cakes(recipe, available):\n",
    "    '''takes a recipe of ingrediantes and returns the amount of cakes that can be made'''\n",
    "    list(recipe.keys())\n",
    "    x = np.array(list(recipe.values()))\n",
    "    \n",
    "    # tries all ingredients, if missing then 0 cakes\n",
    "    try:\n",
    "        available_list= []\n",
    "        for i in list(recipe.keys()):\n",
    "            available_list.append(available[i])\n",
    "        y = np.array(available_list)\n",
    "        return(math.floor(min(y/x)))\n",
    "    except:\n",
    "        return(0)"
   ]
  },
  {
   "cell_type": "code",
   "execution_count": 2,
   "id": "executive-coast",
   "metadata": {
    "ExecuteTime": {
     "end_time": "2021-07-05T18:10:01.518802Z",
     "start_time": "2021-07-05T18:10:01.491386Z"
    }
   },
   "outputs": [
    {
     "data": {
      "text/plain": [
       "2"
      ]
     },
     "execution_count": 2,
     "metadata": {},
     "output_type": "execute_result"
    }
   ],
   "source": [
    "#test\n",
    "recipe = {\"flour\": 500, \"sugar\": 200, \"eggs\": 1}\n",
    "available = {\"flour\": 1200, \"sugar\": 1200, \"eggs\": 5, \"milk\": 200}\n",
    "cakes(recipe,available)"
   ]
  },
  {
   "cell_type": "code",
   "execution_count": 3,
   "id": "waiting-contributor",
   "metadata": {
    "ExecuteTime": {
     "end_time": "2021-07-05T18:10:01.534795Z",
     "start_time": "2021-07-05T18:10:01.519800Z"
    }
   },
   "outputs": [
    {
     "data": {
      "text/plain": [
       "2"
      ]
     },
     "execution_count": 3,
     "metadata": {},
     "output_type": "execute_result"
    }
   ],
   "source": [
    "# alternative solution\n",
    "def cakes(recipe, available):\n",
    "    return math.floor(min(available.get(k, 0)/recipe[k] for k in recipe))\n",
    "cakes(recipe,available)"
   ]
  },
  {
   "cell_type": "markdown",
   "id": "checked-legend",
   "metadata": {},
   "source": [
    "# Resources\n",
    "\n"
   ]
  },
  {
   "cell_type": "code",
   "execution_count": null,
   "id": "hungry-hypothesis",
   "metadata": {},
   "outputs": [],
   "source": []
  }
 ],
 "metadata": {
  "kernelspec": {
   "display_name": "Python 3",
   "language": "python",
   "name": "python3"
  },
  "language_info": {
   "codemirror_mode": {
    "name": "ipython",
    "version": 3
   },
   "file_extension": ".py",
   "mimetype": "text/x-python",
   "name": "python",
   "nbconvert_exporter": "python",
   "pygments_lexer": "ipython3",
   "version": "3.7.3"
  }
 },
 "nbformat": 4,
 "nbformat_minor": 5
}
