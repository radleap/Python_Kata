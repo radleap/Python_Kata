{
 "cells": [
  {
   "cell_type": "markdown",
   "id": "devoted-liberty",
   "metadata": {},
   "source": [
    "# Kata 5 - Array Counts Odd Only\n",
    "\n",
    "https://www.codewars.com/kata/54da5a58ea159efa38000836/train/python"
   ]
  },
  {
   "cell_type": "markdown",
   "id": "about-fleece",
   "metadata": {
    "ExecuteTime": {
     "end_time": "2021-06-13T18:22:26.551467Z",
     "start_time": "2021-06-13T18:22:26.545478Z"
    }
   },
   "source": [
    " ### Instructions\n",
    "     \n",
    "Given an array of integers, find the one that appears an odd number of times.\n",
    "\n",
    "There will always be only one integer that appears an odd number of times.\n",
    "\n",
    "### Examples\n",
    " def find_it(seq):\n",
    "     return None\n",
    "\n",
    " test.assert_equals(find_it([20,1,-1,2,-2,3,3,5,5,1,2,4,20,4,-1,-2,5]), 5)"
   ]
  },
  {
   "cell_type": "code",
   "execution_count": 1,
   "id": "sensitive-pitch",
   "metadata": {
    "ExecuteTime": {
     "end_time": "2021-06-13T18:43:36.464421Z",
     "start_time": "2021-06-13T18:43:36.333596Z"
    }
   },
   "outputs": [
    {
     "data": {
      "text/plain": [
       "12"
      ]
     },
     "execution_count": 1,
     "metadata": {},
     "output_type": "execute_result"
    }
   ],
   "source": [
    "# acceptable solution \n",
    "\n",
    "import numpy as np\n",
    "\n",
    "def find_it(seq):\n",
    "    pos_array = np.array(seq)[np.array(seq)>=0] #array of positive elements\n",
    "    neg_array = np.array(seq)[np.array(seq)<0] #array of negative elements\n",
    "    \n",
    "    # checking the negative elements\n",
    "    for ind, count in enumerate(np.bincount(np.absolute(neg_array))):\n",
    "        if count % 2 == 1:\n",
    "            return(-ind)\n",
    "    # checking the positive elements\n",
    "    for ind, count in enumerate(np.bincount(np.absolute(pos_array))):\n",
    "        if count % 2 == 1:\n",
    "            return(ind)\n",
    "\n",
    "test_list = [-1,-1,-3,-3,-11,-11,1,1,2,2,12,12,12,4,4,18,18,0,0]\n",
    "find_it(test_list)"
   ]
  },
  {
   "cell_type": "code",
   "execution_count": 2,
   "id": "driving-dependence",
   "metadata": {
    "ExecuteTime": {
     "end_time": "2021-06-13T18:43:36.479390Z",
     "start_time": "2021-06-13T18:43:36.465418Z"
    }
   },
   "outputs": [
    {
     "data": {
      "text/plain": [
       "-16"
      ]
     },
     "execution_count": 2,
     "metadata": {},
     "output_type": "execute_result"
    }
   ],
   "source": [
    "# alternative solution, no numpy\n",
    "\n",
    "import numpy as np\n",
    "\n",
    "def find_it(seq):\n",
    "    # creating dictionary of counts by element\n",
    "    counts = {}\n",
    "    for i in seq:\n",
    "        if i not in counts:\n",
    "            counts[i] = 1\n",
    "        else:\n",
    "            counts[i] += 1\n",
    "    \n",
    "    # using dictionary to check counts for odd, return corresponding key\n",
    "    for key, value in counts.items():\n",
    "        if value % 2 == 1:\n",
    "            return(key)\n",
    "        \n",
    "test_list = [-1,-1,-3,-3,-16,-16,-16,-11,-11,1,1,2,2,12,12,4,4,18,18,0,0]\n",
    "find_it(test_list)"
   ]
  },
  {
   "cell_type": "code",
   "execution_count": 3,
   "id": "aggressive-federal",
   "metadata": {
    "ExecuteTime": {
     "end_time": "2021-06-13T18:43:36.495363Z",
     "start_time": "2021-06-13T18:43:36.481376Z"
    }
   },
   "outputs": [
    {
     "data": {
      "text/plain": [
       "-16"
      ]
     },
     "execution_count": 3,
     "metadata": {},
     "output_type": "execute_result"
    }
   ],
   "source": [
    "# simplest solution if a list is given\n",
    "test_list = [-1,-1,-3,-3,-16,-16,-16,-11,-11,1,1,2,2,12,12,4,4,18,18,0,0]\n",
    "\n",
    "def find_it(seq):\n",
    "    for i in test_list:\n",
    "        if test_list.count(i) % 2 == 1:\n",
    "            return(i)\n",
    "find_it(test_list)"
   ]
  },
  {
   "cell_type": "code",
   "execution_count": 4,
   "id": "manufactured-sound",
   "metadata": {
    "ExecuteTime": {
     "end_time": "2021-06-13T18:43:36.511352Z",
     "start_time": "2021-06-13T18:43:36.497343Z"
    }
   },
   "outputs": [],
   "source": [
    "# http://docs.scipy.org/doc/numpy/reference/generated/numpy.bincount.html"
   ]
  }
 ],
 "metadata": {
  "kernelspec": {
   "display_name": "Python 3",
   "language": "python",
   "name": "python3"
  },
  "language_info": {
   "codemirror_mode": {
    "name": "ipython",
    "version": 3
   },
   "file_extension": ".py",
   "mimetype": "text/x-python",
   "name": "python",
   "nbconvert_exporter": "python",
   "pygments_lexer": "ipython3",
   "version": "3.7.3"
  }
 },
 "nbformat": 4,
 "nbformat_minor": 5
}
