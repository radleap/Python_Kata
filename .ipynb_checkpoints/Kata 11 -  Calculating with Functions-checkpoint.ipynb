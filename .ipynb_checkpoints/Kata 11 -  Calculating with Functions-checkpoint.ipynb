{
 "cells": [
  {
   "cell_type": "markdown",
   "id": "located-airplane",
   "metadata": {
    "ExecuteTime": {
     "end_time": "2021-06-14T16:58:51.913082Z",
     "start_time": "2021-06-14T16:58:51.900116Z"
    }
   },
   "source": [
    "# Kata 11 -  Calculating with Functions\n",
    "\n",
    "https://www.codewars.com/kata/525f3eda17c7cd9f9e000b39/python"
   ]
  },
  {
   "cell_type": "markdown",
   "id": "outstanding-heath",
   "metadata": {},
   "source": [
    "### Instructions\n",
    "This time we want to write calculations using functions and get the results. Let's have a look at some examples:\n",
    "\n",
    "Requirements:\n",
    "\n",
    "- There must be a function for each number from 0 (\"zero\") to 9 (\"nine\")\n",
    "- There must be a function for each of the following mathematical operations: plus, minus, times, dividedBy (divided_by in Ruby and Python)\n",
    "- Each calculation consist of exactly one operation and two numbers\n",
    "- The most outer function represents the left operand, the most inner function represents the right operand\n",
    "- Division should be integer division. For example, this should return 2, not 2.666666...:\n",
    "\n",
    "\n",
    "### Examples\n",
    "- **seven(times(five()))** # must return 35\n",
    "- **four(plus(nine()))** # must return 13\n",
    "- **eight(minus(three()))** # must return 5\n",
    "- **six(divided_by(two()))** # must return 3"
   ]
  },
  {
   "cell_type": "code",
   "execution_count": 1,
   "id": "lyric-football",
   "metadata": {
    "ExecuteTime": {
     "end_time": "2021-06-18T20:48:06.547915Z",
     "start_time": "2021-06-18T20:48:06.492064Z"
    }
   },
   "outputs": [],
   "source": [
    "def zero(*args):    \n",
    "    if args:\n",
    "        if args[0][0] == 'times':\n",
    "            return(0 * args[0][1])\n",
    "        elif args[0][0] == 'divided_by':\n",
    "            return(int(0 / args[0][1]))\n",
    "        elif args[0][0] == 'plus':\n",
    "            return(0 + args[0][1])\n",
    "        elif args[0][0] == 'minus':\n",
    "            return(0 - args[0][1])\n",
    "    else:\n",
    "        return(0)\n",
    "    \n",
    "def one(*args): \n",
    "    if args:\n",
    "        if args[0][0] == 'times':\n",
    "            return(1 * args[0][1])\n",
    "        elif args[0][0] == 'divided_by':\n",
    "            return(int(1 / args[0][1]))\n",
    "        elif args[0][0] == 'plus':\n",
    "            return(1 + args[0][1])\n",
    "        elif args[0][0] == 'minus':\n",
    "            return(1 - args[0][1])\n",
    "    else:\n",
    "        return(1)\n",
    "def two(*args): \n",
    "    if args:\n",
    "        if args[0][0] == 'times':\n",
    "            return(2 * args[0][1])\n",
    "        elif args[0][0] == 'divided_by':\n",
    "            return(int(2 / args[0][1]))\n",
    "        elif args[0][0] == 'plus':\n",
    "            return(2 + args[0][1])\n",
    "        elif args[0][0] == 'minus':\n",
    "            return(2 - args[0][1])\n",
    "    else:\n",
    "        return(2)\n",
    "    \n",
    "def three(*args): \n",
    "    if args:\n",
    "        if args[0][0] == 'times':\n",
    "            return(3 * args[0][1])\n",
    "        elif args[0][0] == 'divided_by':\n",
    "            return(int(3 / args[0][1]))\n",
    "        elif args[0][0] == 'plus':\n",
    "            return(3 + args[0][1])\n",
    "        elif args[0][0] == 'minus':\n",
    "            return(3 - args[0][1])\n",
    "    else:\n",
    "        return(3)\n",
    "# def four(): #your code here\n",
    "\n",
    "def four(*args): \n",
    "    if args:\n",
    "        if args[0][0] == 'times':\n",
    "            return(4 * args[0][1])\n",
    "        elif args[0][0] == 'divided_by':\n",
    "            return(int(4 / args[0][1]))\n",
    "        elif args[0][0] == 'plus':\n",
    "            return(4 + args[0][1])\n",
    "        elif args[0][0] == 'minus':\n",
    "            return(4 - args[0][1])\n",
    "    else:\n",
    "        return(4)\n",
    "\n",
    "def five(*args): \n",
    "    if args:\n",
    "        if args[0][0] == 'times':\n",
    "            return(5 * args[0][1])\n",
    "        elif args[0][0] == 'divided_by':\n",
    "            return(int(5 / args[0][1]))\n",
    "        elif args[0][0] == 'plus':\n",
    "            return(5 + args[0][1])\n",
    "        elif args[0][0] == 'minus':\n",
    "            return(5 - args[0][1])\n",
    "    else:\n",
    "        return(5)\n",
    "    \n",
    "def six(*args): \n",
    "    if args:\n",
    "        if args[0][0] == 'times':\n",
    "            return(6 * args[0][1])\n",
    "        elif args[0][0] == 'divided_by':\n",
    "            return(int(6 / args[0][1]))\n",
    "        elif args[0][0] == 'plus':\n",
    "            return(6 + args[0][1])\n",
    "        elif args[0][0] == 'minus':\n",
    "            return(6 - args[0][1])\n",
    "    else:\n",
    "        return(6)\n",
    "    \n",
    "    \n",
    "def seven(*args): \n",
    "    if args:\n",
    "        if args[0][0] == 'times':\n",
    "            return(7 * args[0][1])\n",
    "        elif args[0][0] == 'divided_by':\n",
    "            return(int(7 / args[0][1]))\n",
    "        elif args[0][0] == 'plus':\n",
    "            return(7 + args[0][1])\n",
    "        elif args[0][0] == 'minus':\n",
    "            return(7 - args[0][1])\n",
    "    else:\n",
    "        return(7)\n",
    "    \n",
    "def eight(*args): \n",
    "    if args:\n",
    "        if args[0][0] == 'times':\n",
    "            return(8 * args[0][1])\n",
    "        elif args[0][0] == 'divided_by':\n",
    "            return(int(8 / args[0][1]))\n",
    "        elif args[0][0] == 'plus':\n",
    "            return(8 + args[0][1])\n",
    "        elif args[0][0] == 'minus':\n",
    "            return(8 - args[0][1])\n",
    "    else:\n",
    "        return(8)\n",
    "    \n",
    "def nine(*args): \n",
    "    if args:\n",
    "        if args[0][0] == 'times':\n",
    "            return(9 * args[0][1])\n",
    "        elif args[0][0] == 'divided_by':\n",
    "            return(int(9 / args[0][1]))\n",
    "        elif args[0][0] == 'plus':\n",
    "            return(9 + args[0][1])\n",
    "        elif args[0][0] == 'minus':\n",
    "            return(9 - args[0][1])\n",
    "    else:\n",
    "        return(9)\n",
    "    \n",
    "    \n",
    "    \n",
    "# defining functions\n",
    "def times(x):\n",
    "    return('times', x)\n",
    "\n",
    "def divided_by(x):\n",
    "    return('divided_by', x)\n",
    "\n",
    "def plus(x):\n",
    "    return('plus', x)\n",
    "\n",
    "def minus(x):\n",
    "    return('minus', x)"
   ]
  },
  {
   "cell_type": "code",
   "execution_count": 2,
   "id": "portuguese-recognition",
   "metadata": {
    "ExecuteTime": {
     "end_time": "2021-06-18T20:48:06.641419Z",
     "start_time": "2021-06-18T20:48:06.552923Z"
    }
   },
   "outputs": [
    {
     "name": "stdout",
     "output_type": "stream",
     "text": [
      "35\n",
      "13\n",
      "5\n",
      "3\n",
      "0\n"
     ]
    }
   ],
   "source": [
    "print(seven(times(five()))) # must return 35\n",
    "print(four(plus(nine()))) # must return 13\n",
    "print(eight(minus(three()))) # must return 5\n",
    "print(six(divided_by(two()))) # must return 3\n",
    "print(zero(divided_by(two()))) # 0 "
   ]
  },
  {
   "cell_type": "code",
   "execution_count": 3,
   "id": "simplified-airline",
   "metadata": {
    "ExecuteTime": {
     "end_time": "2021-06-18T20:48:06.688262Z",
     "start_time": "2021-06-18T20:48:06.645503Z"
    }
   },
   "outputs": [],
   "source": [
    "# Alternative solution more concise:\n",
    "\n",
    "def zero(f = None): return 0 if not f else f(0)\n",
    "def one(f = None): return 1 if not f else f(1)\n",
    "def two(f = None): return 2 if not f else f(2)\n",
    "def three(f = None): return 3 if not f else f(3)\n",
    "def four(f = None): return 4 if not f else f(4)\n",
    "def five(f = None): return 5 if not f else f(5)\n",
    "def six(f = None): return 6 if not f else f(6)\n",
    "def seven(f = None): return 7 if not f else f(7)\n",
    "def eight(f = None): return 8 if not f else f(8)\n",
    "def nine(f = None): return 9 if not f else f(9)\n",
    "\n",
    "def plus(y): return lambda x: x+y\n",
    "def minus(y): return lambda x: x-y\n",
    "def times(y): return lambda  x: x*y\n",
    "def divided_by(y): return lambda  x: x/y"
   ]
  },
  {
   "cell_type": "code",
   "execution_count": 4,
   "id": "exotic-anderson",
   "metadata": {
    "ExecuteTime": {
     "end_time": "2021-06-18T20:48:06.736102Z",
     "start_time": "2021-06-18T20:48:06.692249Z"
    }
   },
   "outputs": [
    {
     "name": "stdout",
     "output_type": "stream",
     "text": [
      "35\n",
      "13\n",
      "5\n",
      "3.0\n",
      "0.0\n"
     ]
    }
   ],
   "source": [
    "print(seven(times(five()))) # must return 35\n",
    "print(four(plus(nine()))) # must return 13\n",
    "print(eight(minus(three()))) # must return 5\n",
    "print(six(divided_by(two()))) # must return 3\n",
    "print(zero(divided_by(two()))) # 0 "
   ]
  },
  {
   "cell_type": "markdown",
   "id": "registered-functionality",
   "metadata": {},
   "source": [
    "# Resources\n",
    "\n"
   ]
  },
  {
   "cell_type": "code",
   "execution_count": 5,
   "id": "certain-capitol",
   "metadata": {
    "ExecuteTime": {
     "end_time": "2021-06-18T20:48:06.907919Z",
     "start_time": "2021-06-18T20:48:06.740089Z"
    }
   },
   "outputs": [
    {
     "ename": "NameError",
     "evalue": "name 'types' is not defined",
     "output_type": "error",
     "traceback": [
      "\u001b[1;31m---------------------------------------------------------------------------\u001b[0m",
      "\u001b[1;31mNameError\u001b[0m                                 Traceback (most recent call last)",
      "\u001b[1;32m<ipython-input-5-7765aeb9381d>\u001b[0m in \u001b[0;36m<module>\u001b[1;34m\u001b[0m\n\u001b[0;32m      5\u001b[0m \u001b[1;33m\u001b[0m\u001b[0m\n\u001b[0;32m      6\u001b[0m \u001b[1;32mfor\u001b[0m \u001b[0mkey\u001b[0m\u001b[1;33m,\u001b[0m\u001b[0mvalue\u001b[0m \u001b[1;32min\u001b[0m \u001b[0mnums\u001b[0m\u001b[1;33m.\u001b[0m\u001b[0mitems\u001b[0m\u001b[1;33m(\u001b[0m\u001b[1;33m)\u001b[0m\u001b[1;33m:\u001b[0m\u001b[1;33m\u001b[0m\u001b[1;33m\u001b[0m\u001b[0m\n\u001b[1;32m----> 7\u001b[1;33m     \u001b[0mglobals\u001b[0m\u001b[1;33m(\u001b[0m\u001b[1;33m)\u001b[0m\u001b[1;33m[\u001b[0m\u001b[0mstr\u001b[0m\u001b[1;33m(\u001b[0m\u001b[0mkey\u001b[0m\u001b[1;33m)\u001b[0m\u001b[1;33m]\u001b[0m \u001b[1;33m=\u001b[0m \u001b[0mtypes\u001b[0m\u001b[1;33m.\u001b[0m\u001b[0mFunctionType\u001b[0m\u001b[1;33m(\u001b[0m\u001b[0mcode\u001b[0m\u001b[1;33m,\u001b[0m \u001b[0mglobals\u001b[0m\u001b[1;33m(\u001b[0m\u001b[1;33m)\u001b[0m\u001b[1;33m)\u001b[0m\u001b[1;33m\u001b[0m\u001b[1;33m\u001b[0m\u001b[0m\n\u001b[0m\u001b[0;32m      8\u001b[0m \u001b[1;33m\u001b[0m\u001b[0m\n\u001b[0;32m      9\u001b[0m \u001b[1;33m[\u001b[0m\u001b[1;34m'plus'\u001b[0m\u001b[1;33m,\u001b[0m\u001b[1;34m'minus'\u001b[0m\u001b[1;33m,\u001b[0m\u001b[1;34m'times'\u001b[0m\u001b[1;33m,\u001b[0m\u001b[1;34m'divide_by'\u001b[0m\u001b[1;33m]\u001b[0m\u001b[1;33m\u001b[0m\u001b[1;33m\u001b[0m\u001b[0m\n",
      "\u001b[1;31mNameError\u001b[0m: name 'types' is not defined"
     ]
    }
   ],
   "source": [
    "nums = ['zero','one','two','three','four','five','six','seven','eight','nine']\n",
    "nums = {'zero':0,'one':1,'two':2,'three':3,'four':4,'five':5,'six':6,'seven':7,'eight':8,'nine':9}\n",
    "# for i,j in nums.items():\n",
    "#     print(i,j)\n",
    "\n",
    "for key,value in nums.items():\n",
    "    globals()[str(key)] = types.FunctionType(code, globals())\n",
    "    \n",
    "['plus','minus','times','divide_by']"
   ]
  }
 ],
 "metadata": {
  "kernelspec": {
   "display_name": "Python 3",
   "language": "python",
   "name": "python3"
  },
  "language_info": {
   "codemirror_mode": {
    "name": "ipython",
    "version": 3
   },
   "file_extension": ".py",
   "mimetype": "text/x-python",
   "name": "python",
   "nbconvert_exporter": "python",
   "pygments_lexer": "ipython3",
   "version": "3.7.3"
  }
 },
 "nbformat": 4,
 "nbformat_minor": 5
}
