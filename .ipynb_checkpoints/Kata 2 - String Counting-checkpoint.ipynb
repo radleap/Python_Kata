{
 "cells": [
  {
   "cell_type": "markdown",
   "id": "parallel-tampa",
   "metadata": {},
   "source": [
    "# Kata 2: \n",
    "    \n",
    "https://www.codewars.com/kata/56541980fa08ab47a0000040/train/python"
   ]
  },
  {
   "cell_type": "markdown",
   "id": "latter-welsh",
   "metadata": {},
   "source": [
    "In a factory a printer prints labels for boxes. For one kind of boxes the printer has to use colors which, for the sake of simplicity, are named with letters from a to m.\n",
    "\n",
    "The colors used by the printer are recorded in a control string. For example a \"good\" control string would be aaabbbbhaijjjm meaning that the printer used three times color a, four times color b, one time color h then one time color a...\n",
    "\n",
    "Sometimes there are problems: lack of colors, technical malfunction and a \"bad\" control string is produced e.g. aaaxbbbbyyhwawiwjjjwwm with letters not from a to m.\n",
    "\n",
    "You have to write a function printer_error which given a string will return the error rate of the printer as a string representing a rational whose numerator is the number of errors and the denominator the length of the control string. Don't reduce this fraction to a simpler expression.\n",
    "\n",
    "The string has a length greater or equal to one and contains only letters from ato z.\n",
    "\n",
    "Examples:\n",
    "s=\"aaabbbbhaijjjm\"\n",
    "error_printer(s) => \"0/14\"\n",
    "\n",
    "s=\"aaaxbbbbyyhwawiwjjjwwm\"\n",
    "error_printer(s) => \"8/22\""
   ]
  },
  {
   "cell_type": "code",
   "execution_count": 1,
   "id": "understanding-humidity",
   "metadata": {
    "ExecuteTime": {
     "end_time": "2021-06-10T16:40:59.039094Z",
     "start_time": "2021-06-10T16:40:59.024620Z"
    }
   },
   "outputs": [
    {
     "data": {
      "text/plain": [
       "'4/6'"
      ]
     },
     "execution_count": 1,
     "metadata": {},
     "output_type": "execute_result"
    }
   ],
   "source": [
    "# my accepted solution\n",
    "def printer_error(s):\n",
    "    string_acceptable = [chr(ord('a') + i) for i in range(0,13)] #chr \n",
    "    error = 0\n",
    "    for char in s:\n",
    "        if char not in string_acceptable:\n",
    "            error +=1\n",
    "    return(f'{str(error)}/{str(len(s))}')\n",
    "\n",
    "printer_error('hunter')"
   ]
  },
  {
   "cell_type": "code",
   "execution_count": 2,
   "id": "recorded-settlement",
   "metadata": {
    "ExecuteTime": {
     "end_time": "2021-06-10T16:40:59.071171Z",
     "start_time": "2021-06-10T16:40:59.041225Z"
    }
   },
   "outputs": [
    {
     "data": {
      "text/plain": [
       "'4/6'"
      ]
     },
     "execution_count": 2,
     "metadata": {},
     "output_type": "execute_result"
    }
   ],
   "source": [
    "# alternative solution \n",
    "def printer_error(s):\n",
    "    errors = 0\n",
    "    count = len(s)\n",
    "    for i in s:\n",
    "        if i > \"m\":\n",
    "            errors += 1\n",
    "    return str(errors) + \"/\" + str(count)\n",
    "printer_error('hunter')"
   ]
  },
  {
   "cell_type": "code",
   "execution_count": 3,
   "id": "dietary-belly",
   "metadata": {
    "ExecuteTime": {
     "end_time": "2021-06-10T16:40:59.086161Z",
     "start_time": "2021-06-10T16:40:59.074161Z"
    }
   },
   "outputs": [
    {
     "data": {
      "text/plain": [
       "'4/6'"
      ]
     },
     "execution_count": 3,
     "metadata": {},
     "output_type": "execute_result"
    }
   ],
   "source": [
    "# alternative solution \n",
    "def printer_error(s):\n",
    "    return \"{}/{}\".format(len([x for x in s if x not in \"abcdefghijklm\"]), len(s))\n",
    "printer_error('hunter')"
   ]
  },
  {
   "cell_type": "code",
   "execution_count": 4,
   "id": "statistical-details",
   "metadata": {
    "ExecuteTime": {
     "end_time": "2021-06-10T16:40:59.117024Z",
     "start_time": "2021-06-10T16:40:59.089122Z"
    }
   },
   "outputs": [
    {
     "data": {
      "text/plain": [
       "['a', 'b', 'c', 'd', 'e', 'f', 'g', 'h', 'i', 'j', 'k', 'l', 'm']"
      ]
     },
     "execution_count": 4,
     "metadata": {},
     "output_type": "execute_result"
    }
   ],
   "source": [
    "# Rough work\n",
    "alpha = 'a'\n",
    "[chr(ord('a') + i) for i in range(0,13)]"
   ]
  }
 ],
 "metadata": {
  "kernelspec": {
   "display_name": "Python 3",
   "language": "python",
   "name": "python3"
  },
  "language_info": {
   "codemirror_mode": {
    "name": "ipython",
    "version": 3
   },
   "file_extension": ".py",
   "mimetype": "text/x-python",
   "name": "python",
   "nbconvert_exporter": "python",
   "pygments_lexer": "ipython3",
   "version": "3.7.3"
  }
 },
 "nbformat": 4,
 "nbformat_minor": 5
}
