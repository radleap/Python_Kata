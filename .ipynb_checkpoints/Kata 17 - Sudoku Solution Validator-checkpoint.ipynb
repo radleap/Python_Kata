{
 "cells": [
  {
   "cell_type": "markdown",
   "id": "located-airplane",
   "metadata": {
    "ExecuteTime": {
     "end_time": "2021-06-14T16:58:51.913082Z",
     "start_time": "2021-06-14T16:58:51.900116Z"
    }
   },
   "source": [
    "# Kata 17 - Sudoku Solution Validator\n",
    "https://www.codewars.com/kata/529bf0e9bdf7657179000008/train/python"
   ]
  },
  {
   "cell_type": "markdown",
   "id": "outstanding-heath",
   "metadata": {},
   "source": [
    "### Instructions\n",
    "Sudoku Background\n",
    "Sudoku is a game played on a 9x9 grid. The goal of the game is to fill all cells of the grid with digits from 1 to 9, so that each column, each row, and each of the nine 3x3 sub-grids (also known as blocks) contain all of the digits from 1 to 9.\n",
    "(More info at: http://en.wikipedia.org/wiki/Sudoku)\n",
    "\n",
    "Sudoku Solution Validator\n",
    "Write a function validSolution/ValidateSolution/valid_solution() that accepts a 2D array representing a Sudoku board, and returns true if it is a valid solution, or false otherwise. The cells of the sudoku board may also contain 0's, which will represent empty cells. Boards containing one or more zeroes are considered to be invalid solutions.\n",
    "\n",
    "The board is always 9 cells by 9 cells, and every cell only contains integers from 0 to 9.\n",
    "\n",
    "### Examples\n",
    "- validSolution([\n",
    "  [5, 3, 4, 6, 7, 8, 9, 1, 2],\n",
    "  [6, 7, 2, 1, 9, 5, 3, 4, 8],\n",
    "  [1, 9, 8, 3, 4, 2, 5, 6, 7],\n",
    "  [8, 5, 9, 7, 6, 1, 4, 2, 3],\n",
    "  [4, 2, 6, 8, 5, 3, 7, 9, 1],\n",
    "  [7, 1, 3, 9, 2, 4, 8, 5, 6],\n",
    "  [9, 6, 1, 5, 3, 7, 2, 8, 4],\n",
    "  [2, 8, 7, 4, 1, 9, 6, 3, 5],\n",
    "  [3, 4, 5, 2, 8, 6, 1, 7, 9]\n",
    "]); // => true\n",
    "\n",
    "\n",
    "-  validSolution([\n",
    "  [5, 3, 4, 6, 7, 8, 9, 1, 2], \n",
    "  [6, 7, 2, 1, 9, 0, 3, 4, 8],\n",
    "  [1, 0, 0, 3, 4, 2, 5, 6, 0],\n",
    "  [8, 5, 9, 7, 6, 1, 0, 2, 0],\n",
    "  [4, 2, 6, 8, 5, 3, 7, 9, 1],\n",
    "  [7, 1, 3, 9, 2, 4, 8, 5, 6],\n",
    "  [9, 0, 1, 5, 3, 7, 2, 1, 4],\n",
    "  [2, 8, 7, 4, 1, 9, 6, 3, 5],\n",
    "  [3, 0, 0, 4, 8, 1, 1, 7, 9]\n",
    "]); // => false\n"
   ]
  },
  {
   "cell_type": "code",
   "execution_count": 1,
   "id": "furnished-trigger",
   "metadata": {
    "ExecuteTime": {
     "end_time": "2021-07-06T15:26:21.731935Z",
     "start_time": "2021-07-06T15:26:21.715013Z"
    }
   },
   "outputs": [],
   "source": [
    "# def valid_solution(board):\n",
    "\n",
    "test.assert_equals(valid_solution([[5, 3, 4, 6, 7, 8, 9, 1, 2], \n",
    "                                   [6, 7, 2, 1, 9, 5, 3, 4, 8],\n",
    "                                   [1, 9, 8, 3, 4, 2, 5, 6, 7],\n",
    "                                   [8, 5, 9, 7, 6, 1, 4, 2, 3],\n",
    "                                   [4, 2, 6, 8, 5, 3, 7, 9, 1],\n",
    "                                   [7, 1, 3, 9, 2, 4, 8, 5, 6],\n",
    "                                   [9, 6, 1, 5, 3, 7, 2, 8, 4],\n",
    "                                   [2, 8, 7, 4, 1, 9, 6, 3, 5],\n",
    "                                   [3, 4, 5, 2, 8, 6, 1, 7, 9]]), True);"
   ]
  },
  {
   "cell_type": "code",
   "execution_count": 53,
   "id": "preceding-boston",
   "metadata": {
    "ExecuteTime": {
     "end_time": "2021-07-11T19:03:42.265071Z",
     "start_time": "2021-07-11T19:03:42.258088Z"
    }
   },
   "outputs": [],
   "source": [
    "test_list = [[5, 3, 4, 6, 7, 8, 9, 1, 2], \n",
    "                                   [6, 7, 2, 1, 9, 5, 3, 4, 8],\n",
    "                                   [1, 9, 8, 3, 4, 2, 5, 6, 7],\n",
    "                                   [8, 5, 9, 7, 6, 1, 4, 2, 3],\n",
    "                                   [4, 2, 6, 8, 5, 3, 7, 9, 1],\n",
    "                                   [7, 1, 3, 9, 2, 4, 8, 5, 6],\n",
    "                                   [9, 6, 1, 5, 3, 7, 2, 8, 4],\n",
    "                                   [2, 8, 7, 4, 1, 9, 6, 3, 5],\n",
    "                                   [3, 4, 5, 2, 8, 6, 1, 7, 9]]"
   ]
  },
  {
   "cell_type": "code",
   "execution_count": 54,
   "id": "referenced-notebook",
   "metadata": {
    "ExecuteTime": {
     "end_time": "2021-07-11T19:03:44.642012Z",
     "start_time": "2021-07-11T19:03:44.624032Z"
    }
   },
   "outputs": [
    {
     "data": {
      "text/plain": [
       "array([[5, 3, 4, 6, 7, 8, 9, 1, 2],\n",
       "       [6, 7, 2, 1, 9, 5, 3, 4, 8],\n",
       "       [1, 9, 8, 3, 4, 2, 5, 6, 7],\n",
       "       [8, 5, 9, 7, 6, 1, 4, 2, 3],\n",
       "       [4, 2, 6, 8, 5, 3, 7, 9, 1],\n",
       "       [7, 1, 3, 9, 2, 4, 8, 5, 6],\n",
       "       [9, 6, 1, 5, 3, 7, 2, 8, 4],\n",
       "       [2, 8, 7, 4, 1, 9, 6, 3, 5],\n",
       "       [3, 4, 5, 2, 8, 6, 1, 7, 9]])"
      ]
     },
     "execution_count": 54,
     "metadata": {},
     "output_type": "execute_result"
    }
   ],
   "source": [
    "import numpy as np \n",
    "test_array = np.array(test_list)\n",
    "test_array"
   ]
  },
  {
   "cell_type": "code",
   "execution_count": 6,
   "id": "amended-camping",
   "metadata": {
    "ExecuteTime": {
     "end_time": "2021-07-11T18:40:07.794885Z",
     "start_time": "2021-07-11T18:40:07.787870Z"
    }
   },
   "outputs": [
    {
     "data": {
      "text/plain": [
       "(9, 9)"
      ]
     },
     "execution_count": 6,
     "metadata": {},
     "output_type": "execute_result"
    }
   ],
   "source": [
    "test_array.shape"
   ]
  },
  {
   "cell_type": "code",
   "execution_count": 12,
   "id": "collectible-logic",
   "metadata": {
    "ExecuteTime": {
     "end_time": "2021-07-11T18:43:08.793454Z",
     "start_time": "2021-07-11T18:43:08.775505Z"
    }
   },
   "outputs": [
    {
     "data": {
      "text/plain": [
       "array([ 0,  1,  2,  3,  4,  5,  6,  7,  8,  9, 10, 11, 12, 13, 14, 15, 16,\n",
       "       17, 18, 19, 20, 21, 22, 23, 24, 25, 26, 27, 28, 29, 30, 31, 32, 33,\n",
       "       34, 35, 36, 37, 38, 39, 40, 41, 42, 43, 44, 45, 46, 47, 48, 49, 50,\n",
       "       51, 52, 53, 54, 55, 56, 57, 58, 59, 60, 61, 62, 63, 64, 65, 66, 67,\n",
       "       68, 69, 70, 71, 72, 73, 74, 75, 76, 77, 78, 79, 80])"
      ]
     },
     "execution_count": 12,
     "metadata": {},
     "output_type": "execute_result"
    }
   ],
   "source": [
    "x = np.arange(81)\n",
    "x"
   ]
  },
  {
   "cell_type": "code",
   "execution_count": 18,
   "id": "documentary-favor",
   "metadata": {
    "ExecuteTime": {
     "end_time": "2021-07-11T18:46:58.993371Z",
     "start_time": "2021-07-11T18:46:58.984396Z"
    }
   },
   "outputs": [
    {
     "data": {
      "text/plain": [
       "array([[5, 3, 4, 6, 7, 8, 9, 1, 2],\n",
       "       [6, 7, 2, 1, 9, 5, 3, 4, 8],\n",
       "       [1, 9, 8, 3, 4, 2, 5, 6, 7],\n",
       "       [8, 5, 9, 7, 6, 1, 4, 2, 3],\n",
       "       [4, 2, 6, 8, 5, 3, 7, 9, 1],\n",
       "       [7, 1, 3, 9, 2, 4, 8, 5, 6],\n",
       "       [9, 6, 1, 5, 3, 7, 2, 8, 4],\n",
       "       [2, 8, 7, 4, 1, 9, 6, 3, 5],\n",
       "       [3, 4, 5, 2, 8, 6, 1, 7, 9]])"
      ]
     },
     "execution_count": 18,
     "metadata": {},
     "output_type": "execute_result"
    }
   ],
   "source": [
    "test_array"
   ]
  },
  {
   "cell_type": "markdown",
   "id": "nuclear-identification",
   "metadata": {},
   "source": [
    "# 3x3 squares across"
   ]
  },
  {
   "cell_type": "code",
   "execution_count": 32,
   "id": "desperate-twist",
   "metadata": {
    "ExecuteTime": {
     "end_time": "2021-07-11T18:56:12.084748Z",
     "start_time": "2021-07-11T18:56:12.065780Z"
    }
   },
   "outputs": [
    {
     "data": {
      "text/plain": [
       "array([[5, 3, 4],\n",
       "       [6, 7, 2],\n",
       "       [1, 9, 8]])"
      ]
     },
     "execution_count": 32,
     "metadata": {},
     "output_type": "execute_result"
    }
   ],
   "source": [
    "test_array[0:3,:3]"
   ]
  },
  {
   "cell_type": "code",
   "execution_count": 30,
   "id": "expensive-deposit",
   "metadata": {
    "ExecuteTime": {
     "end_time": "2021-07-11T18:55:11.781498Z",
     "start_time": "2021-07-11T18:55:11.769518Z"
    }
   },
   "outputs": [
    {
     "data": {
      "text/plain": [
       "array([[6, 7, 8],\n",
       "       [1, 9, 5],\n",
       "       [3, 4, 2]])"
      ]
     },
     "execution_count": 30,
     "metadata": {},
     "output_type": "execute_result"
    }
   ],
   "source": [
    "test_array[:3,3:6]"
   ]
  },
  {
   "cell_type": "code",
   "execution_count": 31,
   "id": "heard-recipe",
   "metadata": {
    "ExecuteTime": {
     "end_time": "2021-07-11T18:55:30.502803Z",
     "start_time": "2021-07-11T18:55:30.484242Z"
    }
   },
   "outputs": [
    {
     "data": {
      "text/plain": [
       "array([[9, 1, 2],\n",
       "       [3, 4, 8],\n",
       "       [5, 6, 7]])"
      ]
     },
     "execution_count": 31,
     "metadata": {},
     "output_type": "execute_result"
    }
   ],
   "source": [
    "test_array[:3,6:9]"
   ]
  },
  {
   "cell_type": "markdown",
   "id": "fluid-restriction",
   "metadata": {},
   "source": [
    "# 3x3 squares down"
   ]
  },
  {
   "cell_type": "code",
   "execution_count": 37,
   "id": "stainless-cannon",
   "metadata": {
    "ExecuteTime": {
     "end_time": "2021-07-11T18:57:59.051977Z",
     "start_time": "2021-07-11T18:57:59.034447Z"
    }
   },
   "outputs": [
    {
     "data": {
      "text/plain": [
       "array([[5, 3, 4, 6, 7, 8, 9, 1, 2],\n",
       "       [6, 7, 2, 1, 9, 5, 3, 4, 8],\n",
       "       [1, 9, 8, 3, 4, 2, 5, 6, 7],\n",
       "       [8, 5, 9, 7, 6, 1, 4, 2, 3],\n",
       "       [4, 2, 6, 8, 5, 3, 7, 9, 1],\n",
       "       [7, 1, 3, 9, 2, 4, 8, 5, 6],\n",
       "       [9, 6, 1, 5, 3, 7, 2, 8, 4],\n",
       "       [2, 8, 7, 4, 1, 9, 6, 3, 5],\n",
       "       [3, 4, 5, 2, 8, 6, 1, 7, 9]])"
      ]
     },
     "execution_count": 37,
     "metadata": {},
     "output_type": "execute_result"
    }
   ],
   "source": [
    "test_array"
   ]
  },
  {
   "cell_type": "code",
   "execution_count": 35,
   "id": "neutral-lighting",
   "metadata": {
    "ExecuteTime": {
     "end_time": "2021-07-11T18:57:52.005517Z",
     "start_time": "2021-07-11T18:57:51.989027Z"
    }
   },
   "outputs": [
    {
     "data": {
      "text/plain": [
       "array([[5, 3, 4],\n",
       "       [6, 7, 2],\n",
       "       [1, 9, 8]])"
      ]
     },
     "execution_count": 35,
     "metadata": {},
     "output_type": "execute_result"
    }
   ],
   "source": [
    "test_array[0:3,:3]"
   ]
  },
  {
   "cell_type": "code",
   "execution_count": 36,
   "id": "speaking-small",
   "metadata": {
    "ExecuteTime": {
     "end_time": "2021-07-11T18:57:52.242037Z",
     "start_time": "2021-07-11T18:57:52.236053Z"
    }
   },
   "outputs": [
    {
     "data": {
      "text/plain": [
       "array([[8, 5, 9],\n",
       "       [4, 2, 6],\n",
       "       [7, 1, 3]])"
      ]
     },
     "execution_count": 36,
     "metadata": {},
     "output_type": "execute_result"
    }
   ],
   "source": [
    "test_array[3:6,:3]"
   ]
  },
  {
   "cell_type": "code",
   "execution_count": 34,
   "id": "educated-basement",
   "metadata": {
    "ExecuteTime": {
     "end_time": "2021-07-11T18:57:48.618555Z",
     "start_time": "2021-07-11T18:57:48.603598Z"
    }
   },
   "outputs": [
    {
     "data": {
      "text/plain": [
       "array([[9, 6, 1],\n",
       "       [2, 8, 7],\n",
       "       [3, 4, 5]])"
      ]
     },
     "execution_count": 34,
     "metadata": {},
     "output_type": "execute_result"
    }
   ],
   "source": [
    "test_array[6:9,:3]"
   ]
  },
  {
   "cell_type": "markdown",
   "id": "aboriginal-details",
   "metadata": {},
   "source": [
    "# Testing a Set"
   ]
  },
  {
   "cell_type": "code",
   "execution_count": 51,
   "id": "eligible-assist",
   "metadata": {
    "ExecuteTime": {
     "end_time": "2021-07-11T19:03:03.297638Z",
     "start_time": "2021-07-11T19:03:03.281643Z"
    }
   },
   "outputs": [],
   "source": [
    "check = {1,2,3,4,5,6,7,8,9}"
   ]
  },
  {
   "cell_type": "code",
   "execution_count": 52,
   "id": "helpful-effectiveness",
   "metadata": {
    "ExecuteTime": {
     "end_time": "2021-07-11T19:03:03.471546Z",
     "start_time": "2021-07-11T19:03:03.452570Z"
    }
   },
   "outputs": [
    {
     "name": "stdout",
     "output_type": "stream",
     "text": [
      "good\n"
     ]
    }
   ],
   "source": [
    "if check == set(test_array[6:9,:3].reshape(-1).tolist()):\n",
    "    print(\"good\")"
   ]
  },
  {
   "cell_type": "markdown",
   "id": "checked-legend",
   "metadata": {},
   "source": [
    "# Resources\n",
    "\n"
   ]
  },
  {
   "cell_type": "code",
   "execution_count": null,
   "id": "hungry-hypothesis",
   "metadata": {},
   "outputs": [],
   "source": []
  }
 ],
 "metadata": {
  "kernelspec": {
   "display_name": "Python 3",
   "language": "python",
   "name": "python3"
  },
  "language_info": {
   "codemirror_mode": {
    "name": "ipython",
    "version": 3
   },
   "file_extension": ".py",
   "mimetype": "text/x-python",
   "name": "python",
   "nbconvert_exporter": "python",
   "pygments_lexer": "ipython3",
   "version": "3.7.3"
  }
 },
 "nbformat": 4,
 "nbformat_minor": 5
}
