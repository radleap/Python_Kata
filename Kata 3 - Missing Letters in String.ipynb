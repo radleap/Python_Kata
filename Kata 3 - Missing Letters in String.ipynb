{
 "cells": [
  {
   "cell_type": "markdown",
   "id": "indirect-disclaimer",
   "metadata": {},
   "source": [
    "# Kata 3 - Missing Letters in String\n",
    "\n",
    "https://www.codewars.com/kata/5839edaa6754d6fec10000a2/train/python"
   ]
  },
  {
   "cell_type": "markdown",
   "id": "administrative-diving",
   "metadata": {},
   "source": [
    "### Instructions\n",
    "\n",
    "Find the missing letter\n",
    "\n",
    "Write a method that takes an array of consecutive (increasing) letters as input and that returns the missing letter in the array.\n",
    "\n",
    "You will always get an valid array. And it will be always exactly one letter be missing. The length of the array will always be at least 2.\n",
    "The array will always contain letters in only one case.\n",
    "\n",
    "### Examples\n",
    "\n",
    "['a','b','c','d','f'] -> 'e' ['O','Q','R','S'] -> 'P'\n",
    "\n",
    "[\"a\",\"b\",\"c\",\"d\",\"f\"] -> \"e\"\n",
    "[\"O\",\"Q\",\"R\",\"S\"] -> \"P\""
   ]
  },
  {
   "cell_type": "code",
   "execution_count": 1,
   "id": "minus-dependence",
   "metadata": {
    "ExecuteTime": {
     "end_time": "2021-06-10T16:37:06.937039Z",
     "start_time": "2021-06-10T16:37:06.903131Z"
    }
   },
   "outputs": [
    {
     "data": {
      "text/plain": [
       "'S'"
      ]
     },
     "execution_count": 1,
     "metadata": {},
     "output_type": "execute_result"
    }
   ],
   "source": [
    "# My first solution just python, accpted\n",
    "li = ['a','b','c','d','f']\n",
    "li = ['x','z']\n",
    "li = ['Q','R','T','U']\n",
    "\n",
    "def find_missing_letter(chars):\n",
    "    lower = \"abcdefghijklmnopqrstuvwxyz\"\n",
    "    upper = \"ABCDEFGHIJKLMNOPQRSTUVWXYZ\"\n",
    "    if chars[0] in lower:\n",
    "        index_start = lower.index(chars[0])\n",
    "        correct = [lower[i + index_start] for i in range(len(chars)+1)]\n",
    "        return list(set(correct).difference(chars))[0]\n",
    "    else:\n",
    "        index_start = upper.index(chars[0])\n",
    "        correct = [upper[i+index_start] for i in range(len(chars)+1)]\n",
    "        return list(set(correct).difference(chars))[0]\n",
    "\n",
    "find_missing_letter(li)\n"
   ]
  },
  {
   "cell_type": "code",
   "execution_count": 3,
   "id": "experimental-certificate",
   "metadata": {
    "ExecuteTime": {
     "end_time": "2021-06-10T16:37:06.968007Z",
     "start_time": "2021-06-10T16:37:06.954990Z"
    }
   },
   "outputs": [
    {
     "data": {
      "text/plain": [
       "'S'"
      ]
     },
     "execution_count": 3,
     "metadata": {},
     "output_type": "execute_result"
    }
   ],
   "source": [
    "# Alternative using string library\n",
    "import string\n",
    "string.ascii_letters\n",
    "\n",
    "li = ['a','b','c','d','f']\n",
    "li = ['x','z']\n",
    "li = ['Q','R','T','U']\n",
    "\n",
    "def find_missing_letter(chars):\n",
    "    index_start = string.ascii_letters.index(chars[0])\n",
    "    correct = [string.ascii_letters[i + index_start] for i in range(len(chars)+1)]\n",
    "    return list(set(correct).difference(chars))[0]\n",
    "find_missing_letter(li)"
   ]
  },
  {
   "cell_type": "code",
   "execution_count": 1,
   "id": "satellite-authority",
   "metadata": {
    "ExecuteTime": {
     "end_time": "2021-06-23T00:57:17.911350Z",
     "start_time": "2021-06-23T00:57:17.880397Z"
    }
   },
   "outputs": [
    {
     "data": {
      "text/plain": [
       "42"
      ]
     },
     "execution_count": 1,
     "metadata": {},
     "output_type": "execute_result"
    }
   ],
   "source": [
    "# rough work\n",
    "import string\n",
    "string.ascii_letters\n",
    "\n",
    "li = ['Q','R','T','U']\n",
    "index_start = string.ascii_letters.index(li[0])\n",
    "index_start"
   ]
  },
  {
   "cell_type": "code",
   "execution_count": null,
   "id": "automotive-while",
   "metadata": {},
   "outputs": [],
   "source": []
  }
 ],
 "metadata": {
  "kernelspec": {
   "display_name": "Python 3",
   "language": "python",
   "name": "python3"
  },
  "language_info": {
   "codemirror_mode": {
    "name": "ipython",
    "version": 3
   },
   "file_extension": ".py",
   "mimetype": "text/x-python",
   "name": "python",
   "nbconvert_exporter": "python",
   "pygments_lexer": "ipython3",
   "version": "3.7.3"
  }
 },
 "nbformat": 4,
 "nbformat_minor": 5
}
