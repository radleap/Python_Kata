{
 "cells": [
  {
   "cell_type": "markdown",
   "id": "located-airplane",
   "metadata": {
    "ExecuteTime": {
     "end_time": "2021-06-14T16:58:51.913082Z",
     "start_time": "2021-06-14T16:58:51.900116Z"
    }
   },
   "source": [
    "# Kata 12 -  Regex Conditions\n",
    "\n",
    "https://www.codewars.com/kata/525f3eda17c7cd9f9e000b39/python"
   ]
  },
  {
   "cell_type": "markdown",
   "id": "outstanding-heath",
   "metadata": {},
   "source": [
    "### Instructions\n",
    "You need to write regex that will validate a password to make sure it meets the following criteria:\n",
    "\n",
    "At least six characters long\n",
    "contains a lowercase letter\n",
    "contains an uppercase letter\n",
    "contains a number\n",
    "Valid passwords will only be alphanumeric characters.\n",
    "\n",
    "\n",
    "### Examples\n",
    "- test.assert_equals(bool(search(regex, 'fjd3IR9')), True)\n",
    "- test.assert_equals(bool(search(regex, 'ghdfj32')), False)\n",
    "- test.assert_equals(bool(search(regex, 'DSJKHD23')), False)\n",
    "- test.assert_equals(bool(search(regex, 'dsF43')), False)"
   ]
  },
  {
   "cell_type": "code",
   "execution_count": 1,
   "id": "primary-organizer",
   "metadata": {
    "ExecuteTime": {
     "end_time": "2021-06-20T17:08:18.748792Z",
     "start_time": "2021-06-20T17:08:18.736825Z"
    }
   },
   "outputs": [
    {
     "data": {
      "text/plain": [
       "<re.Match object; span=(0, 6), match='abC123'>"
      ]
     },
     "execution_count": 1,
     "metadata": {},
     "output_type": "execute_result"
    }
   ],
   "source": [
    "import re \n",
    "\n",
    "word =  'abC123'  # \"ggE*|e2s\"\n",
    "regex = '^(?=.*[a-z])(?=.*[A-Z])(?=.*\\d)[a-zA-Z0-9]{6,}$'\n",
    "\n",
    "example = re.search(regex, word)\n",
    "example"
   ]
  },
  {
   "cell_type": "code",
   "execution_count": 2,
   "id": "rubber-citizen",
   "metadata": {
    "ExecuteTime": {
     "end_time": "2021-06-20T17:08:18.779743Z",
     "start_time": "2021-06-20T17:08:18.750787Z"
    }
   },
   "outputs": [
    {
     "name": "stdout",
     "output_type": "stream",
     "text": [
      "True\n",
      "False\n",
      "False\n",
      "False\n"
     ]
    }
   ],
   "source": [
    "#tests\n",
    "\n",
    "regex ='^(?=.*[a-z])(?=.*[A-Z])(?=.*\\d).{6,}$'\n",
    "\n",
    "print(bool(re.search(regex, 'fjd3IR9'))) # True\n",
    "print(bool(re.search(regex, 'ghdfj32'))) #  False\n",
    "print(bool(re.search(regex, 'DSJKHD23'))) # False\n",
    "print(bool(re. search(regex, 'dsF43'))) # False"
   ]
  },
  {
   "cell_type": "code",
   "execution_count": 3,
   "id": "extended-topic",
   "metadata": {
    "ExecuteTime": {
     "end_time": "2021-06-20T17:08:18.795667Z",
     "start_time": "2021-06-20T17:08:18.780707Z"
    }
   },
   "outputs": [],
   "source": [
    "# r'^(?=.*[a-z])(?=.*[A-Z])(?=.*\\d).{6,}$', \"g!gEe2s\") # matches lower, upper, numeric NOT RESTRICTIVE TO ALPHANUMERIC"
   ]
  },
  {
   "cell_type": "code",
   "execution_count": 4,
   "id": "promising-maintenance",
   "metadata": {
    "ExecuteTime": {
     "end_time": "2021-06-20T17:08:18.811656Z",
     "start_time": "2021-06-20T17:08:18.797661Z"
    }
   },
   "outputs": [
    {
     "data": {
      "text/plain": [
       "<re.Match object; span=(0, 6), match='abC123'>"
      ]
     },
     "execution_count": 4,
     "metadata": {},
     "output_type": "execute_result"
    }
   ],
   "source": [
    "# Alternative solution\n",
    "\n",
    "from re import compile, VERBOSE\n",
    "\n",
    "regex = compile(\"\"\"\n",
    "^              # begin word\n",
    "(?=.*?[a-z])   # at least one lowercase letter\n",
    "(?=.*?[A-Z])   # at least one uppercase letter\n",
    "(?=.*?[0-9])   # at least one number\n",
    "[A-Za-z\\d]     # only alphanumeric\n",
    "{6,}           # at least 6 characters long\n",
    "$              # end word\n",
    "\"\"\", VERBOSE)\n",
    "\n",
    "word =  'abC123'  # \"ggE*|e2s\"\n",
    "example = re.search(regex, word)\n",
    "example"
   ]
  },
  {
   "cell_type": "markdown",
   "id": "checked-legend",
   "metadata": {},
   "source": [
    "# Resources\n",
    "https://www.guru99.com/python-regular-expressions-complete-tutorial.html\n",
    "\n",
    "https://stackoverflow.com/questions/1576789/in-regex-what-does-w-mean"
   ]
  },
  {
   "cell_type": "markdown",
   "id": "medical-resident",
   "metadata": {},
   "source": [
    "Useful Notes:\n",
    "\n",
    "- | is either of two alternatives\n",
    "-  \\* repition of the previous item zero or more times\n",
    "-  \\+ repition of the previous item one of more times\n",
    "- ? Denotes repition of the previous item zero or one time\n",
    "- {m} denotes repition of the previous item exactly m times\n",
    "- {m,} denotes repition of the previous item m or more times\n",
    "- {m,n} denotes the repotion of the previous item at least m and not more than n times\n",
    "- ^ denotes the start of the string, $ denotes the end of string\n",
    "- [chars] a bracket expression, matching any one of the characters\n",
    "- ~* ... ~ means case sensitive, ~* means case insensitive"
   ]
  },
  {
   "cell_type": "markdown",
   "id": "simplified-glass",
   "metadata": {},
   "source": [
    "Explanation of lookaheads:\n",
    "\n",
    "- The ^ anchor asserts that we are at the beginning of the string\n",
    "- The lookahead (?=\\S) asserts that what follows is a non-space character\n",
    "- Lookahead (?=(?:[^+]*\\+){0,2}[^+]*$) : two + chars at the most\n",
    "- Lookahead (?=(?:[^(]*\\()?[^(]*$) : One ( at the most\n",
    "- Lookahead (?=(?:[^)]*\\))?[^)]*$) : One ) at the most\n",
    "\n",
    "- [- .()+0-9]* zero or more of the allowed chars;\n",
    "- [-.+()0-9] end with one of the allowed chars that is not a space;\n",
    "- The $ anchor asserts that we are at the end of the string;"
   ]
  },
  {
   "cell_type": "code",
   "execution_count": null,
   "id": "unexpected-customs",
   "metadata": {},
   "outputs": [],
   "source": []
  }
 ],
 "metadata": {
  "kernelspec": {
   "display_name": "Python 3",
   "language": "python",
   "name": "python3"
  },
  "language_info": {
   "codemirror_mode": {
    "name": "ipython",
    "version": 3
   },
   "file_extension": ".py",
   "mimetype": "text/x-python",
   "name": "python",
   "nbconvert_exporter": "python",
   "pygments_lexer": "ipython3",
   "version": "3.7.3"
  }
 },
 "nbformat": 4,
 "nbformat_minor": 5
}
