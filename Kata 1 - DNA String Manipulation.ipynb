{
 "cells": [
  {
   "cell_type": "markdown",
   "id": "guilty-bloom",
   "metadata": {},
   "source": [
    "# Kata 1 - DNA String Manipulation\n",
    "\n",
    "https://www.codewars.com/kata/554e4a2f232cdd87d9000038"
   ]
  },
  {
   "cell_type": "markdown",
   "id": "everyday-basement",
   "metadata": {},
   "source": [
    "### Instructions\n",
    "\n",
    "Deoxyribonucleic acid (DNA) is a chemical found in the nucleus of cells and carries the \"instructions\" for the development and functioning of living organisms.\n",
    "\n",
    "If you want to know more http://en.wikipedia.org/wiki/DNA\n",
    "\n",
    "In DNA strings, symbols \"A\" and \"T\" are complements of each other, as \"C\" and \"G\". You have function with one side of the DNA (string, except for Haskell); you need to get the other complementary side. DNA strand is never empty or there is no DNA at all (again, except for Haskell).\n",
    "\n",
    "More similar exercise are found here http://rosalind.info/problems/list-view/ (source)\n",
    "    \n",
    "### Examples\n",
    "- DNA_strand (\"ATTGC\") # return \"TAACG\"\n",
    "- DNA_strand (\"GTAT\") # return \"CATA\""
   ]
  },
  {
   "cell_type": "code",
   "execution_count": 26,
   "id": "impressed-century",
   "metadata": {
    "ExecuteTime": {
     "end_time": "2021-06-08T20:52:44.144101Z",
     "start_time": "2021-06-08T20:52:44.124186Z"
    }
   },
   "outputs": [
    {
     "data": {
      "text/plain": [
       "'TAGG'"
      ]
     },
     "execution_count": 26,
     "metadata": {},
     "output_type": "execute_result"
    }
   ],
   "source": [
    "# initial acepted solution acceptable\n",
    "\n",
    "def DNA_strand(dna):\n",
    "    ''' This function takes a string (DNA) and returns its compliment'''\n",
    "    dna_comp = '' #setting the complimentary string\n",
    "    for i in dna:\n",
    "        if i == 'A':\n",
    "            dna_comp = dna_comp + 'T'\n",
    "        elif i == 'T':\n",
    "            dna_comp = dna_comp + 'A'\n",
    "        elif i == 'C':\n",
    "            dna_comp = dna_comp + 'G'\n",
    "        elif i == 'G':\n",
    "            dna_comp = dna_comp + 'C'\n",
    "    return(dna_comp)\n",
    "DNA_strand('ATCC')"
   ]
  },
  {
   "cell_type": "code",
   "execution_count": 31,
   "id": "controlling-tracy",
   "metadata": {
    "ExecuteTime": {
     "end_time": "2021-06-08T20:56:09.123855Z",
     "start_time": "2021-06-08T20:56:09.103909Z"
    }
   },
   "outputs": [
    {
     "data": {
      "text/plain": [
       "'TAGG'"
      ]
     },
     "execution_count": 31,
     "metadata": {},
     "output_type": "execute_result"
    }
   ],
   "source": [
    "# Better solution\n",
    "\n",
    "\n",
    "def DNA_strand(dna):\n",
    "    pairs = {'A':'T',\n",
    "             'T':'A',\n",
    "             'C':'G',\n",
    "             'G':'C'}\n",
    "    \n",
    "    li = [pairs[x] for x in dna]\n",
    "    return ''.join(li)\n",
    "DNA_strand('ATCC')\n",
    "\n"
   ]
  },
  {
   "cell_type": "code",
   "execution_count": 35,
   "id": "computational-suggestion",
   "metadata": {
    "ExecuteTime": {
     "end_time": "2021-06-08T20:58:19.157832Z",
     "start_time": "2021-06-08T20:58:19.137826Z"
    }
   },
   "outputs": [
    {
     "data": {
      "text/plain": [
       "'TAGG'"
      ]
     },
     "execution_count": 35,
     "metadata": {},
     "output_type": "execute_result"
    }
   ],
   "source": [
    "# Another solution\n",
    "def DNA_strand(dna):\n",
    "    pairs = {'A':'T',\n",
    "             'T':'A',\n",
    "             'C':'G',\n",
    "             'G':'C'}\n",
    "    return ''.join([pairs[x] for x in dna])\n",
    "DNA_strand('ATCC')"
   ]
  }
 ],
 "metadata": {
  "kernelspec": {
   "display_name": "Python 3",
   "language": "python",
   "name": "python3"
  },
  "language_info": {
   "codemirror_mode": {
    "name": "ipython",
    "version": 3
   },
   "file_extension": ".py",
   "mimetype": "text/x-python",
   "name": "python",
   "nbconvert_exporter": "python",
   "pygments_lexer": "ipython3",
   "version": "3.7.3"
  }
 },
 "nbformat": 4,
 "nbformat_minor": 5
}
