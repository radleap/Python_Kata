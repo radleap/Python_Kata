{
 "cells": [
  {
   "cell_type": "markdown",
   "id": "located-airplane",
   "metadata": {
    "ExecuteTime": {
     "end_time": "2021-06-14T16:58:51.913082Z",
     "start_time": "2021-06-14T16:58:51.900116Z"
    }
   },
   "source": [
    "# Kata 17 - Sudoku Solution Validator\n",
    "https://www.codewars.com/kata/529bf0e9bdf7657179000008/train/python"
   ]
  },
  {
   "cell_type": "markdown",
   "id": "outstanding-heath",
   "metadata": {},
   "source": [
    "### Instructions\n",
    "Sudoku Background\n",
    "Sudoku is a game played on a 9x9 grid. The goal of the game is to fill all cells of the grid with digits from 1 to 9, so that each column, each row, and each of the nine 3x3 sub-grids (also known as blocks) contain all of the digits from 1 to 9.\n",
    "(More info at: http://en.wikipedia.org/wiki/Sudoku)\n",
    "\n",
    "Sudoku Solution Validator\n",
    "Write a function validSolution/ValidateSolution/valid_solution() that accepts a 2D array representing a Sudoku board, and returns true if it is a valid solution, or false otherwise. The cells of the sudoku board may also contain 0's, which will represent empty cells. Boards containing one or more zeroes are considered to be invalid solutions.\n",
    "\n",
    "The board is always 9 cells by 9 cells, and every cell only contains integers from 0 to 9.\n",
    "\n",
    "### Examples\n",
    "- validSolution([\n",
    "  [5, 3, 4, 6, 7, 8, 9, 1, 2],\n",
    "  [6, 7, 2, 1, 9, 5, 3, 4, 8],\n",
    "  [1, 9, 8, 3, 4, 2, 5, 6, 7],\n",
    "  [8, 5, 9, 7, 6, 1, 4, 2, 3],\n",
    "  [4, 2, 6, 8, 5, 3, 7, 9, 1],\n",
    "  [7, 1, 3, 9, 2, 4, 8, 5, 6],\n",
    "  [9, 6, 1, 5, 3, 7, 2, 8, 4],\n",
    "  [2, 8, 7, 4, 1, 9, 6, 3, 5],\n",
    "  [3, 4, 5, 2, 8, 6, 1, 7, 9]\n",
    "]); // => true\n",
    "\n",
    "\n",
    "-  validSolution([\n",
    "  [5, 3, 4, 6, 7, 8, 9, 1, 2], \n",
    "  [6, 7, 2, 1, 9, 0, 3, 4, 8],\n",
    "  [1, 0, 0, 3, 4, 2, 5, 6, 0],\n",
    "  [8, 5, 9, 7, 6, 1, 0, 2, 0],\n",
    "  [4, 2, 6, 8, 5, 3, 7, 9, 1],\n",
    "  [7, 1, 3, 9, 2, 4, 8, 5, 6],\n",
    "  [9, 0, 1, 5, 3, 7, 2, 1, 4],\n",
    "  [2, 8, 7, 4, 1, 9, 6, 3, 5],\n",
    "  [3, 0, 0, 4, 8, 1, 1, 7, 9]\n",
    "]); // => false\n"
   ]
  },
  {
   "cell_type": "code",
   "execution_count": 1,
   "id": "furnished-trigger",
   "metadata": {
    "ExecuteTime": {
     "end_time": "2021-07-06T15:26:21.731935Z",
     "start_time": "2021-07-06T15:26:21.715013Z"
    }
   },
   "outputs": [],
   "source": [
    "# def valid_solution(board):"
   ]
  },
  {
   "cell_type": "markdown",
   "id": "checked-legend",
   "metadata": {},
   "source": [
    "# Resources\n",
    "\n"
   ]
  },
  {
   "cell_type": "code",
   "execution_count": null,
   "id": "hungry-hypothesis",
   "metadata": {},
   "outputs": [],
   "source": []
  }
 ],
 "metadata": {
  "kernelspec": {
   "display_name": "Python 3",
   "language": "python",
   "name": "python3"
  },
  "language_info": {
   "codemirror_mode": {
    "name": "ipython",
    "version": 3
   },
   "file_extension": ".py",
   "mimetype": "text/x-python",
   "name": "python",
   "nbconvert_exporter": "python",
   "pygments_lexer": "ipython3",
   "version": "3.7.3"
  }
 },
 "nbformat": 4,
 "nbformat_minor": 5
}
