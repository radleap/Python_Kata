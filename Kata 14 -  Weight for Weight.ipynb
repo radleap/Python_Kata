{
 "cells": [
  {
   "cell_type": "markdown",
   "id": "located-airplane",
   "metadata": {
    "ExecuteTime": {
     "end_time": "2021-06-14T16:58:51.913082Z",
     "start_time": "2021-06-14T16:58:51.900116Z"
    }
   },
   "source": [
    "# Kata 14 - Weight for Weight\n",
    "\n",
    "https://www.codewars.com/kata/55c6126177c9441a570000cc/python"
   ]
  },
  {
   "cell_type": "markdown",
   "id": "outstanding-heath",
   "metadata": {},
   "source": [
    "### Instructions\n",
    "My friend John and I are members of the \"Fat to Fit Club (FFC)\". John is worried because each month a list with the weights of members is published and each month he is the last on the list which means he is the heaviest.\n",
    "\n",
    "I am the one who establishes the list so I told him: \"Don't worry any more, I will modify the order of the list\". It was decided to attribute a \"weight\" to numbers. The weight of a number will be from now on the sum of its digits.\n",
    "\n",
    "For example 99 will have \"weight\" 18, 100 will have \"weight\" 1 so in the list 100 will come before 99.\n",
    "\n",
    "Given a string with the weights of FFC members in normal order can you give this string ordered by \"weights\" of these numbers?\n",
    "\n",
    "When two numbers have the same \"weight\", let us class them as if they were strings (alphabetical ordering) and not numbers:\n",
    "- 180 is before 90 since, having the same \"weight\" (9), it comes before as a string.\n",
    "- All numbers in the list are positive numbers and the list can be empty.\n",
    "\n",
    "Notes\n",
    "- it may happen that the input string have leading, trailing whitespaces and more than a unique whitespace between two consecutive numbers\n",
    "- For C: The result is freed.\n",
    "\n",
    "### Examples\n",
    "- \"56 65 74 100 99 68 86 180 90\" ordered by numbers weights becomes: \n",
    "- \"100 180 90 56 65 74 68 86 99\"\n",
    "\n",
    "\n",
    "- '1 200 2 4 4 6 6 7 7 18 27 72 81 9 91 425 31064 7920 67407 96488 34608557 71899703' \n",
    "- should equal'1 2 200 4 4 6 6 7 7 18 27 72 81 9 91 425 31064 7920 67407 96488 34608557 71899703'"
   ]
  },
  {
   "cell_type": "code",
   "execution_count": 1,
   "id": "auburn-house",
   "metadata": {
    "ExecuteTime": {
     "end_time": "2021-06-27T20:05:19.630929Z",
     "start_time": "2021-06-27T20:05:19.604205Z"
    }
   },
   "outputs": [
    {
     "data": {
      "text/plain": [
       "'1 2 200 4 4 6 6 7 7 18 27 72 81 9 91 425 31064 7920 67407 96488 34608557 71899703'"
      ]
     },
     "execution_count": 1,
     "metadata": {},
     "output_type": "execute_result"
    }
   ],
   "source": [
    "# accepted solution\n",
    "\n",
    "def weight(x):\n",
    "    su =0\n",
    "    for i in x:\n",
    "        su += int(i)\n",
    "    return(su)\n",
    "\n",
    "def sorter(item):\n",
    "    '''sorting key'''\n",
    "    ord1 = item[1]\n",
    "    ord2 = item[2]\n",
    "    return (ord1, ord2)\n",
    "\n",
    "def order_weight(strng):\n",
    "    '''creating each list of keys'''\n",
    "    \n",
    "    ### original list split\n",
    "    original = list(strng.split()) \n",
    "    #print(original)\n",
    "    \n",
    "    ### key: numerical sum weights\n",
    "    weight_sum = [weight(i) for i in strng.split()]\n",
    "    #print(weight_sum)\n",
    "    \n",
    "    ### key: alphabetic weight creation\n",
    "    weight_alpha = sorted(strng.split())\n",
    "\n",
    "    mapping = {}\n",
    "    for i,j in enumerate(weight_alpha):\n",
    "        mapping[j]=i   # number to weight\n",
    "\n",
    "    hhh = []\n",
    "    for i,j in enumerate(strng.split()):\n",
    "        hhh.append(mapping[j])\n",
    "    #print(hhh)\n",
    "    \n",
    "    ### Creating the new sorted object based on keys\n",
    "    new = []\n",
    "    for i in range(len(original)):\n",
    "        new.append((original[i], weight_sum[i], hhh[i]))\n",
    "    sorted_list = sorted(new, key=sorter)    \n",
    "    \n",
    "    ### returning the sorted original elements based on key as a string\n",
    "    return(' '.join([i[0] for i in sorted_list]))\n",
    "\n",
    "\n",
    "\n",
    "####### testing ########\n",
    "test = '1 200 2 4 4 6 6 7 7 18 27 72 81 9 91 425 31064 7920 67407 96488 34608557 71899703'\n",
    "order_weight(test)\n",
    "# solution '1 2 200 4 4 6 6 7 7 18 27 72 81 9 91 425 31064 7920 67407 96488 34608557 71899703'"
   ]
  },
  {
   "cell_type": "code",
   "execution_count": 2,
   "id": "surface-silly",
   "metadata": {
    "ExecuteTime": {
     "end_time": "2021-06-27T20:05:19.662299Z",
     "start_time": "2021-06-27T20:05:19.633893Z"
    }
   },
   "outputs": [],
   "source": [
    "# alternative solution"
   ]
  },
  {
   "cell_type": "code",
   "execution_count": 3,
   "id": "interested-genesis",
   "metadata": {
    "ExecuteTime": {
     "end_time": "2021-06-27T20:05:19.677296Z",
     "start_time": "2021-06-27T20:05:19.663299Z"
    }
   },
   "outputs": [
    {
     "data": {
      "text/plain": [
       "'1 2 200 4 4 6 6 7 7 18 27 72 81 9 91 425 31064 7920 67407 96488 34608557 71899703'"
      ]
     },
     "execution_count": 3,
     "metadata": {},
     "output_type": "execute_result"
    }
   ],
   "source": [
    "def sum_string(s):\n",
    "    sum = 0\n",
    "    for digit in s:\n",
    "        sum += int(digit)\n",
    "    return sum\n",
    "\n",
    "def order_weight(strng):\n",
    "    initial_list = sorted(strng.split())\n",
    "    result = \" \".join(sorted(initial_list, key=sum_string))    \n",
    "    return result\n",
    "\n",
    "####### testing ########\n",
    "test = '1 200 2 4 4 6 6 7 7 18 27 72 81 9 91 425 31064 7920 67407 96488 34608557 71899703'\n",
    "order_weight(test)\n",
    "# solution '1 2 200 4 4 6 6 7 7 18 27 72 81 9 91 425 31064 7920 67407 96488 34608557 71899703'"
   ]
  },
  {
   "cell_type": "markdown",
   "id": "checked-legend",
   "metadata": {},
   "source": [
    "# Resources\n",
    "https://www.programiz.com/python-programming/methods/built-in/sorted"
   ]
  },
  {
   "cell_type": "code",
   "execution_count": 4,
   "id": "norman-reproduction",
   "metadata": {
    "ExecuteTime": {
     "end_time": "2021-06-27T20:05:19.693251Z",
     "start_time": "2021-06-27T20:05:19.679259Z"
    }
   },
   "outputs": [
    {
     "name": "stdout",
     "output_type": "stream",
     "text": [
      "[('Jimmy', 90, 22), ('Terence', 75, 12), ('David', 75, 20), ('Alison', 50, 18), ('John', 45, 12)]\n"
     ]
    }
   ],
   "source": [
    "# Nested list of student's info in a Science Olympiad\n",
    "# List elements: (Student's Name, Marks out of 100, Age)\n",
    "\n",
    "participant_list = [\n",
    "    ('Alison', 50, 18),\n",
    "    ('Terence', 75, 12),\n",
    "    ('David', 75, 20),\n",
    "    ('Jimmy', 90, 22),\n",
    "    ('John', 45, 12)\n",
    "]\n",
    "\n",
    "def sorter(item):\n",
    "    # Since highest marks first, least error = most marks\n",
    "    error = 100 - item[1]\n",
    "    age = item[2]\n",
    "    return (error, age)\n",
    "\n",
    "\n",
    "sorted_list = sorted(participant_list, key=sorter)\n",
    "print(sorted_list)"
   ]
  },
  {
   "cell_type": "code",
   "execution_count": 5,
   "id": "crude-hardware",
   "metadata": {
    "ExecuteTime": {
     "end_time": "2021-06-27T20:05:19.709212Z",
     "start_time": "2021-06-27T20:05:19.694228Z"
    }
   },
   "outputs": [
    {
     "name": "stdout",
     "output_type": "stream",
     "text": [
      "['a', 'd', 'h', 'b', 'c', 'e', 'i', 'f', 'g']\n"
     ]
    }
   ],
   "source": [
    "# another way to sort\n",
    "\n",
    "X = [\"a\", \"b\", \"c\", \"d\", \"e\", \"f\", \"g\", \"h\", \"i\"]\n",
    "Y = [ 0,   1,   1,    0,   1,   2,   2,   0,   1]\n",
    "\n",
    "# Sorting X based on Y\n",
    "\n",
    "out = [x for _,x in sorted(zip(Y,X))]\n",
    "print(out) "
   ]
  }
 ],
 "metadata": {
  "kernelspec": {
   "display_name": "Python 3",
   "language": "python",
   "name": "python3"
  },
  "language_info": {
   "codemirror_mode": {
    "name": "ipython",
    "version": 3
   },
   "file_extension": ".py",
   "mimetype": "text/x-python",
   "name": "python",
   "nbconvert_exporter": "python",
   "pygments_lexer": "ipython3",
   "version": "3.7.3"
  }
 },
 "nbformat": 4,
 "nbformat_minor": 5
}
