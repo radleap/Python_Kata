{
 "cells": [
  {
   "cell_type": "markdown",
   "id": "located-airplane",
   "metadata": {
    "ExecuteTime": {
     "end_time": "2021-06-14T16:58:51.913082Z",
     "start_time": "2021-06-14T16:58:51.900116Z"
    }
   },
   "source": [
    "# Kata 8 -Ordering Strings  \n",
    "\n",
    "https://www.codewars.com/kata/55c45be3b2079eccff00010f/train/python"
   ]
  },
  {
   "cell_type": "markdown",
   "id": "outstanding-heath",
   "metadata": {},
   "source": [
    "Your task is to sort a given string. Each word in the string will contain a single number. This number is the position the word should have in the result.\n",
    "\n",
    "Note: Numbers can be from 1 to 9. So 1 will be the first word (not 0).\n",
    "\n",
    "If the input string is empty, return an empty string. The words in the input String will only contain valid consecutive numbers.\n",
    "\n",
    "### examples\n",
    "- \"is2 Thi1s T4est 3a\"  -->  \"Thi1s is2 3a T4est\"\n",
    "- \"4of Fo1r pe6ople g3ood th5e the2\"  -->  \"Fo1r the2 g3ood 4of th5e pe6ople\"\n",
    "- \"\"  -->  \"\""
   ]
  },
  {
   "cell_type": "code",
   "execution_count": 1,
   "id": "miniature-locator",
   "metadata": {
    "ExecuteTime": {
     "end_time": "2021-06-15T17:47:00.616446Z",
     "start_time": "2021-06-15T17:47:00.608467Z"
    }
   },
   "outputs": [],
   "source": [
    "# def order(sentence):\n",
    "#   # code here\n",
    "#   return"
   ]
  },
  {
   "cell_type": "code",
   "execution_count": 2,
   "id": "afraid-commercial",
   "metadata": {
    "ExecuteTime": {
     "end_time": "2021-06-15T17:47:00.632422Z",
     "start_time": "2021-06-15T17:47:00.618440Z"
    }
   },
   "outputs": [],
   "source": [
    "# accepted solution\n",
    "\n",
    "import re\n",
    "\n",
    "def order(sentence):\n",
    "    if sentence.split() == []:\n",
    "        return('')\n",
    "    else: \n",
    "        list_split = sentence.split()\n",
    "        list_order = re.findall('[0-9]+',sentence)\n",
    "\n",
    "        list_zipped = zip(list_order, list_split) #zipping\n",
    "        list_zipped_sorted = sorted(list_zipped) #sorting\n",
    "\n",
    "        #extracting \n",
    "        final = [element for _,element in list_zipped_sorted]\n",
    "        return(\" \".join(final))"
   ]
  },
  {
   "cell_type": "code",
   "execution_count": 3,
   "id": "distinguished-pottery",
   "metadata": {
    "ExecuteTime": {
     "end_time": "2021-06-15T17:47:00.647363Z",
     "start_time": "2021-06-15T17:47:00.635395Z"
    }
   },
   "outputs": [
    {
     "name": "stdout",
     "output_type": "stream",
     "text": [
      "Thi1s is2 3a T4est\n",
      "Fo1r the2 g3ood 4of th5e pe6ople\n",
      "\n"
     ]
    }
   ],
   "source": [
    "print(order(\"is2 Thi1s T4est 3a\")) # \"Thi1s is2 3a T4est\"\n",
    "print(order(\"4of Fo1r pe6ople g3ood th5e the2\")) # \"Fo1r the2 g3ood 4of th5e pe6ople\"\n",
    "print(order(\"\")) # \"\""
   ]
  },
  {
   "cell_type": "code",
   "execution_count": 4,
   "id": "stable-match",
   "metadata": {
    "ExecuteTime": {
     "end_time": "2021-06-15T17:47:00.662977Z",
     "start_time": "2021-06-15T17:47:00.649358Z"
    }
   },
   "outputs": [
    {
     "name": "stdout",
     "output_type": "stream",
     "text": [
      "Thi1s is2 3a T4est\n",
      "Fo1r the2 g3ood 4of th5e pe6ople\n",
      "\n"
     ]
    }
   ],
   "source": [
    "# simple solution\n",
    "\n",
    "def order(words):\n",
    "    return ' '.join(sorted(words.split(), key=lambda w:sorted(w)))\n",
    "\n",
    "print(order(\"is2 Thi1s T4est 3a\")) # \"Thi1s is2 3a T4est\"\n",
    "print(order(\"4of Fo1r pe6ople g3ood th5e the2\")) # \"Fo1r the2 g3ood 4of th5e pe6ople\"\n",
    "print(order(\"\")) # \"\""
   ]
  },
  {
   "cell_type": "markdown",
   "id": "progressive-douglas",
   "metadata": {},
   "source": [
    "https://realpython.com/python-zip-function/\n",
    "\n",
    "https://www.geeksforgeeks.org/filter-in-python/"
   ]
  }
 ],
 "metadata": {
  "kernelspec": {
   "display_name": "Python 3",
   "language": "python",
   "name": "python3"
  },
  "language_info": {
   "codemirror_mode": {
    "name": "ipython",
    "version": 3
   },
   "file_extension": ".py",
   "mimetype": "text/x-python",
   "name": "python",
   "nbconvert_exporter": "python",
   "pygments_lexer": "ipython3",
   "version": "3.7.3"
  }
 },
 "nbformat": 4,
 "nbformat_minor": 5
}
