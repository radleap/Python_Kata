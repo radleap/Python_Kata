{
 "cells": [
  {
   "cell_type": "markdown",
   "id": "located-airplane",
   "metadata": {
    "ExecuteTime": {
     "end_time": "2021-06-14T16:58:51.913082Z",
     "start_time": "2021-06-14T16:58:51.900116Z"
    }
   },
   "source": [
    "# Kata 10 -  Moving Zeros To End\n",
    "\n",
    "https://www.codewars.com/kata/52597aa56021e91c93000cb0/train/python"
   ]
  },
  {
   "cell_type": "markdown",
   "id": "outstanding-heath",
   "metadata": {},
   "source": [
    "### Instructions\n",
    "Write an algorithm that takes an array and moves all of the zeros to the end, preserving the order of the other elements.\n",
    "### Examples\n",
    "- **move_zeros([1, 0, 1, 2, 0, 1, 3])** # returns **[1, 1, 2, 1, 3, 0, 0]**"
   ]
  },
  {
   "cell_type": "code",
   "execution_count": 1,
   "id": "statutory-producer",
   "metadata": {
    "ExecuteTime": {
     "end_time": "2021-06-17T17:34:02.642785Z",
     "start_time": "2021-06-17T17:34:02.499209Z"
    }
   },
   "outputs": [
    {
     "data": {
      "text/plain": [
       "[1, 1, 2, 1, 3, 0, 0]"
      ]
     },
     "execution_count": 1,
     "metadata": {},
     "output_type": "execute_result"
    }
   ],
   "source": [
    "# accepted solution\n",
    "\n",
    "import numpy as np\n",
    "\n",
    "def move_zeros(obj):\n",
    "    '''\n",
    "    Function takes a list, reorders all zeros to end preserving order\n",
    "    Returns a list\n",
    "    '''\n",
    "    non_zero = list(np.array(obj)[np.array(obj) > 0]) # using array logic\n",
    "    add_zeros_len = len(obj) - len(non_zero) # getting zero length needed\n",
    "    add_zeros = [0 for i in range(add_zeros_len)] # make list of zeros\n",
    "\n",
    "    return(non_zero + add_zeros)\n",
    "\n",
    "move_zeros([1, 0, 1, 2, 0, 1, 3]) "
   ]
  },
  {
   "cell_type": "code",
   "execution_count": 2,
   "id": "national-controversy",
   "metadata": {
    "ExecuteTime": {
     "end_time": "2021-06-17T17:34:02.657983Z",
     "start_time": "2021-06-17T17:34:02.645015Z"
    }
   },
   "outputs": [
    {
     "data": {
      "text/plain": [
       "[1, 1, 2, 1, 3, 0, 0]"
      ]
     },
     "execution_count": 2,
     "metadata": {},
     "output_type": "execute_result"
    }
   ],
   "source": [
    "# alternative solution\n",
    "def move_zeros(arr):\n",
    "    l = [i for i in arr if i!=0]\n",
    "    return(l+[0]*(len(arr)-len(l)))\n",
    "\n",
    "move_zeros([1, 0, 1, 2, 0, 1, 3]) "
   ]
  },
  {
   "cell_type": "code",
   "execution_count": 3,
   "id": "altered-constitution",
   "metadata": {
    "ExecuteTime": {
     "end_time": "2021-06-17T17:34:02.673942Z",
     "start_time": "2021-06-17T17:34:02.660971Z"
    }
   },
   "outputs": [
    {
     "data": {
      "text/plain": [
       "[1, 1, 2, 1, 3, 0, 0]"
      ]
     },
     "execution_count": 3,
     "metadata": {},
     "output_type": "execute_result"
    }
   ],
   "source": [
    "# alternative solution\n",
    "def move_zeros(array):\n",
    "    return sorted(array, key=lambda x: x==0 )\n",
    "    #return sorted(array, key=lambda x: x==0 and type(x) is not bool)\n",
    "\n",
    "move_zeros([1, 0, 1, 2, 0, 1, 3]) "
   ]
  },
  {
   "cell_type": "markdown",
   "id": "clear-thousand",
   "metadata": {},
   "source": [
    "# Exploring Sorted() Method"
   ]
  },
  {
   "cell_type": "code",
   "execution_count": 4,
   "id": "entertaining-greene",
   "metadata": {
    "ExecuteTime": {
     "end_time": "2021-06-17T17:34:02.689894Z",
     "start_time": "2021-06-17T17:34:02.676929Z"
    }
   },
   "outputs": [],
   "source": [
    "# Other - playing with Sorted\n",
    "from operator import itemgetter, attrgetter"
   ]
  },
  {
   "cell_type": "code",
   "execution_count": 5,
   "id": "certain-montgomery",
   "metadata": {
    "ExecuteTime": {
     "end_time": "2021-06-17T17:34:02.705850Z",
     "start_time": "2021-06-17T17:34:02.691889Z"
    }
   },
   "outputs": [
    {
     "name": "stdout",
     "output_type": "stream",
     "text": [
      "['Andrew', 'This', 'a', 'from', 'is', 'string', 'test']\n",
      "['a', 'Andrew', 'from', 'is', 'string', 'test', 'This']\n"
     ]
    }
   ],
   "source": [
    "#sorting using key to sort regardless of case\n",
    "print(sorted(\"This is a test string from Andrew\".split()))\n",
    "print(sorted(\"This is a test string from Andrew\".split(), key=str.lower))"
   ]
  },
  {
   "cell_type": "code",
   "execution_count": 6,
   "id": "surprised-country",
   "metadata": {
    "ExecuteTime": {
     "end_time": "2021-06-17T17:34:02.721809Z",
     "start_time": "2021-06-17T17:34:02.707848Z"
    }
   },
   "outputs": [
    {
     "data": {
      "text/plain": [
       "[('dave', 'B', 10), ('jane', 'B', 12), ('john', 'A', 15)]"
      ]
     },
     "execution_count": 6,
     "metadata": {},
     "output_type": "execute_result"
    }
   ],
   "source": [
    "# sorting using key for 3rd element of tuples\n",
    "student_tuples = [\n",
    "    ('john', 'A', 15),\n",
    "    ('jane', 'B', 12),\n",
    "    ('dave', 'B', 10),\n",
    "]\n",
    "\n",
    "sorted(student_tuples, key=lambda student: student[0])   # sort by age"
   ]
  },
  {
   "cell_type": "code",
   "execution_count": 7,
   "id": "paperback-meditation",
   "metadata": {
    "ExecuteTime": {
     "end_time": "2021-06-17T17:34:02.737766Z",
     "start_time": "2021-06-17T17:34:02.723803Z"
    }
   },
   "outputs": [
    {
     "name": "stdout",
     "output_type": "stream",
     "text": [
      "[('dave', 'B', 10), ('jane', 'B', 12), ('john', 'A', 15)]\n",
      "[('john', 'A', 15), ('dave', 'B', 10), ('jane', 'B', 12)]\n"
     ]
    }
   ],
   "source": [
    "from operator import itemgetter, attrgetter\n",
    "\n",
    "# sorting by 3rd\n",
    "print(sorted(student_tuples, key=itemgetter(2)))\n",
    "# sort by 2d then by 3rd:\n",
    "print(sorted(student_tuples, key=itemgetter(1,2)))"
   ]
  },
  {
   "cell_type": "markdown",
   "id": "technical-examination",
   "metadata": {},
   "source": [
    "Using Lambda as key with Sorted()"
   ]
  },
  {
   "cell_type": "code",
   "execution_count": 8,
   "id": "rocky-burton",
   "metadata": {
    "ExecuteTime": {
     "end_time": "2021-06-17T17:34:02.753731Z",
     "start_time": "2021-06-17T17:34:02.740762Z"
    }
   },
   "outputs": [
    {
     "name": "stdout",
     "output_type": "stream",
     "text": [
      "[('apple', '10', '200'), ('baby', '20', '300'), ('candy', '30', '100')]\n"
     ]
    }
   ],
   "source": [
    "lst = [('candy','30','100'), ('apple','10','200'), ('baby','20','300')]\n",
    "lst.sort(key=lambda x:x[1])\n",
    "print(lst)"
   ]
  },
  {
   "cell_type": "code",
   "execution_count": 9,
   "id": "divine-insert",
   "metadata": {
    "ExecuteTime": {
     "end_time": "2021-06-17T17:34:02.769694Z",
     "start_time": "2021-06-17T17:34:02.756726Z"
    }
   },
   "outputs": [
    {
     "data": {
      "text/plain": [
       "['id1', 'id2', 'id3', 'id22', 'id30', 'id100']"
      ]
     },
     "execution_count": 9,
     "metadata": {},
     "output_type": "execute_result"
    }
   ],
   "source": [
    "ids = ['id1', 'id100', 'id2', 'id22', 'id3', 'id30']\n",
    "sorted_ids = sorted(ids, key=lambda x: int(x[2:])) # Integer sort\n",
    "sorted_ids"
   ]
  },
  {
   "cell_type": "markdown",
   "id": "registered-functionality",
   "metadata": {},
   "source": [
    "# Resources\n",
    "\n",
    "https://docs.python.org/3/howto/sorting.html"
   ]
  }
 ],
 "metadata": {
  "kernelspec": {
   "display_name": "Python 3",
   "language": "python",
   "name": "python3"
  },
  "language_info": {
   "codemirror_mode": {
    "name": "ipython",
    "version": 3
   },
   "file_extension": ".py",
   "mimetype": "text/x-python",
   "name": "python",
   "nbconvert_exporter": "python",
   "pygments_lexer": "ipython3",
   "version": "3.7.3"
  }
 },
 "nbformat": 4,
 "nbformat_minor": 5
}
