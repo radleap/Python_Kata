{
 "cells": [
  {
   "cell_type": "markdown",
   "id": "located-airplane",
   "metadata": {
    "ExecuteTime": {
     "end_time": "2021-06-14T16:58:51.913082Z",
     "start_time": "2021-06-14T16:58:51.900116Z"
    }
   },
   "source": [
    "# Kata 9 - Take a Number And Sum Its Digits Raised To The Consecutive Powers  \n",
    "\n",
    "https://www.codewars.com/kata/5626b561280a42ecc50000d1/train/python"
   ]
  },
  {
   "cell_type": "markdown",
   "id": "outstanding-heath",
   "metadata": {},
   "source": [
    "### Instructions\n",
    "The number 89 is the first integer with more than one digit that fulfills the property partially introduced in the title of this kata. What's the use of saying \"Eureka\"? Because this sum gives the same number.\n",
    "\n",
    "In effect:**89 = 8^1 + 9^2**\n",
    "\n",
    "The next number in having this property is 135.\n",
    "\n",
    "See this property again: **135 = 1^1 + 3^2 + 5^3**\n",
    "\n",
    "We need a function to collect these numbers, that may receive two integers a, b that defines the range [a, b] (inclusive) and outputs a list of the sorted numbers in the range that fulfills the property described above.\n",
    "\n",
    "Let's see some cases:\n",
    "\n",
    "### Examples\n",
    "- sum_dig_pow(1, 10) == [1, 2, 3, 4, 5, 6, 7, 8, 9]\n",
    "- sum_dig_pow(1, 100) == [1, 2, 3, 4, 5, 6, 7, 8, 9, 89]\n",
    "\n",
    "If there are no numbers of this kind in the range [a, b] the function should output an empty list.\n",
    "- sum_dig_pow(90, 100) == []"
   ]
  },
  {
   "cell_type": "code",
   "execution_count": 1,
   "id": "humanitarian-sodium",
   "metadata": {
    "ExecuteTime": {
     "end_time": "2021-06-16T18:16:11.528299Z",
     "start_time": "2021-06-16T18:16:11.511315Z"
    }
   },
   "outputs": [
    {
     "data": {
      "text/plain": [
       "[5, 6, 7, 8, 9, 89, 135]"
      ]
     },
     "execution_count": 1,
     "metadata": {},
     "output_type": "execute_result"
    }
   ],
   "source": [
    "# acceptable solution\n",
    "def dig_power(number):\n",
    "    power = 0\n",
    "    for i in range(0,len(str(number))):\n",
    "        power += int(str(number)[i])**(i+1)\n",
    "    return(power)\n",
    "\n",
    "def sum_dig_pow(a, b):\n",
    "    initial_list = list(range(a,b+1)) # create initial list between a,b inclusive (add +1)\n",
    "    special = []\n",
    "    for i in initial_list:\n",
    "        p = dig_power(i) #using calculate_power function\n",
    "        if i == p:\n",
    "            special.append(i)\n",
    "    return(special)\n",
    "sum_dig_pow(5,150)"
   ]
  },
  {
   "cell_type": "code",
   "execution_count": 2,
   "id": "confused-undergraduate",
   "metadata": {
    "ExecuteTime": {
     "end_time": "2021-06-16T18:16:11.560183Z",
     "start_time": "2021-06-16T18:16:11.530262Z"
    }
   },
   "outputs": [
    {
     "data": {
      "text/plain": [
       "[5, 6, 7, 8, 9, 89, 135, 175]"
      ]
     },
     "execution_count": 2,
     "metadata": {},
     "output_type": "execute_result"
    }
   ],
   "source": [
    "# alternative solution, refactored and simpler\n",
    "def dig_pow(n):\n",
    "    return(sum([int(digit)**index for index,digit in enumerate(str(n),1)]))\n",
    "\n",
    "def sum_dig_pow(a, b):\n",
    "    return([x for x in range(a,b+1) if x == dig_pow(x)])\n",
    "    \n",
    "sum_dig_pow(5,200)"
   ]
  },
  {
   "cell_type": "code",
   "execution_count": 3,
   "id": "restricted-intervention",
   "metadata": {
    "ExecuteTime": {
     "end_time": "2021-06-16T18:16:11.576138Z",
     "start_time": "2021-06-16T18:16:11.562176Z"
    }
   },
   "outputs": [],
   "source": [
    "# Scratch Work"
   ]
  },
  {
   "cell_type": "code",
   "execution_count": 4,
   "id": "alert-oxide",
   "metadata": {
    "ExecuteTime": {
     "end_time": "2021-06-16T18:16:11.592101Z",
     "start_time": "2021-06-16T18:16:11.578137Z"
    }
   },
   "outputs": [
    {
     "name": "stdout",
     "output_type": "stream",
     "text": [
      "1 ---- 3\n",
      "2 ---- 4\n"
     ]
    }
   ],
   "source": [
    "for ind,digit in enumerate(str(34),1):\n",
    "    print(ind, \"----\", digit)"
   ]
  },
  {
   "cell_type": "code",
   "execution_count": 5,
   "id": "immediate-briefing",
   "metadata": {
    "ExecuteTime": {
     "end_time": "2021-06-16T18:16:11.607057Z",
     "start_time": "2021-06-16T18:16:11.594091Z"
    }
   },
   "outputs": [
    {
     "data": {
      "text/plain": [
       "29"
      ]
     },
     "execution_count": 5,
     "metadata": {},
     "output_type": "execute_result"
    }
   ],
   "source": [
    "def dig_pow(n):\n",
    "    return(sum([int(digit)**index for index,digit in enumerate(str(n),1)]))\n",
    "dig_pow(45)"
   ]
  },
  {
   "cell_type": "code",
   "execution_count": 6,
   "id": "pending-montreal",
   "metadata": {
    "ExecuteTime": {
     "end_time": "2021-06-16T18:16:11.623046Z",
     "start_time": "2021-06-16T18:16:11.609052Z"
    }
   },
   "outputs": [
    {
     "data": {
      "text/plain": [
       "[6, 7, 8, 9, 89]"
      ]
     },
     "execution_count": 6,
     "metadata": {},
     "output_type": "execute_result"
    }
   ],
   "source": [
    "[x for x in range(6,100+1) if x == dig_pow(x)]"
   ]
  }
 ],
 "metadata": {
  "kernelspec": {
   "display_name": "Python 3",
   "language": "python",
   "name": "python3"
  },
  "language_info": {
   "codemirror_mode": {
    "name": "ipython",
    "version": 3
   },
   "file_extension": ".py",
   "mimetype": "text/x-python",
   "name": "python",
   "nbconvert_exporter": "python",
   "pygments_lexer": "ipython3",
   "version": "3.7.3"
  }
 },
 "nbformat": 4,
 "nbformat_minor": 5
}
