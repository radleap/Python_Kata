{
 "cells": [
  {
   "cell_type": "markdown",
   "id": "located-airplane",
   "metadata": {
    "ExecuteTime": {
     "end_time": "2021-06-14T16:58:51.913082Z",
     "start_time": "2021-06-14T16:58:51.900116Z"
    }
   },
   "source": [
    "# Kata 15 - Range Extraction\n",
    "\n",
    "https://www.codewars.com/kata/51ba717bb08c1cd60f00002f/train/python"
   ]
  },
  {
   "cell_type": "markdown",
   "id": "outstanding-heath",
   "metadata": {},
   "source": [
    "### Instructions\n",
    "A format for expressing an ordered list of integers is to use a comma separated list of either \n",
    "\n",
    "- individual integers\n",
    "- or a range of integers denoted by the starting integer separated from the end integer in the range by a dash, '-'. The range includes all integers in the interval including both endpoints. It is not considered a range unless it spans at least 3 numbers. For example \"12,13,15-17\"\n",
    "\n",
    "Complete the solution so that it takes a list of integers in increasing order and returns a correctly formatted string in the range format.\n",
    "\n",
    "### Examples\n",
    "- solution([-6, -3, -2, -1, 0, 1, 3, 4, 5, 7, 8, 9, 10, 11, 14, 15, 17, 18, 19, 20])\n",
    "- returns \"-6,-3-1,3-5,7-11,14,15,17-20\"\n"
   ]
  },
  {
   "cell_type": "code",
   "execution_count": 1,
   "id": "auburn-house",
   "metadata": {
    "ExecuteTime": {
     "end_time": "2021-06-30T18:04:13.632091Z",
     "start_time": "2021-06-30T18:04:13.487454Z"
    }
   },
   "outputs": [
    {
     "data": {
      "text/plain": [
       "'-6,-3-1,3-5,7-11,14,15,17-20'"
      ]
     },
     "execution_count": 1,
     "metadata": {},
     "output_type": "execute_result"
    }
   ],
   "source": [
    "#acceted solution\n",
    "\n",
    "import numpy as np\n",
    "from  itertools import chain\n",
    "\n",
    "def str_list(k):\n",
    "    '''takes a list and returns string formatting based on length'''\n",
    "    if len(k)<3:\n",
    "        x = ','.join(str(x) for x in k)\n",
    "        return(x)\n",
    "    else:\n",
    "        x = str(min(k))+\"-\" + str(max(k))\n",
    "        return(x)\n",
    "    \n",
    "\n",
    "def return_str(list_of_list):\n",
    "    '''\n",
    "    takes a list of lists\n",
    "    uses str_list\n",
    "    and returns formatted string'''\n",
    "    final = ''\n",
    "    for i in list_of_list:\n",
    "        final = final + str_list(i) + \",\" \n",
    "    final = final[:-1] #remove final ','\n",
    "    return(final)\n",
    "\n",
    "\n",
    "def solution(args_list):\n",
    "    '''\n",
    "    Takes a list of numbers\n",
    "    Breaks into sequences\n",
    "    Applies str_list and return_str functions\n",
    "    \n",
    "    '''\n",
    "    original = np.array(args_list)\n",
    "    complete = np.array(list(range(min(original),max(original)+1,1)))\n",
    "    \n",
    "    new = []\n",
    "    for ind,val in enumerate(complete):\n",
    "        if val in original:\n",
    "            new.append(val)\n",
    "        else:\n",
    "            new.append(None)\n",
    "    new = np.array(new)\n",
    "    \n",
    "    # extracting number sequences into \"main\" object \n",
    "    main = list()\n",
    "    for i in range(len(new)):\n",
    "        # Checking if new[i] is in the list, if so, it skips it\n",
    "        if new[i] in chain(*main) or new[i] == None: \n",
    "            continue\n",
    "        else:\n",
    "            list_new = [new[i]] # working\n",
    "            #print(\"aa\",list_new)\n",
    "            try:\n",
    "                count = 0\n",
    "                while (count < len(new)+1) and (new[i+1+count]!=None):\n",
    "                    try:\n",
    "                        # if next element a number NOT none\n",
    "                        if (new[i+1+count]!=None):\n",
    "                            list_new.append(new[i+1+count])\n",
    "                            count = count + 1\n",
    "                        else:\n",
    "                            main.append(list_new)\n",
    "                            count = count + 1\n",
    "                            break\n",
    "                    except:\n",
    "                        pass\n",
    "            except: pass\n",
    "            main.append(list_new)\n",
    "    return(return_str(main))\n",
    "\n",
    "#### testing ####\n",
    "solution([-6, -3, -2, -1, 0, 1, 3, 4, 5, 7, 8, 9, 10, 11, 14, 15, 17, 18, 19, 20])\n",
    "# returns \"-6,-3-1,3-5,7-11,14,15,17-20\""
   ]
  },
  {
   "cell_type": "code",
   "execution_count": 2,
   "id": "solid-atlas",
   "metadata": {
    "ExecuteTime": {
     "end_time": "2021-06-30T18:04:13.663015Z",
     "start_time": "2021-06-30T18:04:13.640077Z"
    }
   },
   "outputs": [
    {
     "data": {
      "text/plain": [
       "'-6,-3-1,3-5,7-11,14,15,17-20'"
      ]
     },
     "execution_count": 2,
     "metadata": {},
     "output_type": "execute_result"
    }
   ],
   "source": [
    "# alternative\n",
    "\n",
    "def solution(arr):\n",
    "    ranges = []\n",
    "    a = b = arr[0]\n",
    "    for n in arr[1:] + [None]:\n",
    "        if n != b+1:\n",
    "            ranges.append(str(a) if a == b else \"{}{}{}\".format(a, \",\" if a+1 == b else \"-\", b))\n",
    "            a = n\n",
    "        b = n\n",
    "    return \",\".join(ranges)\n",
    "\n",
    "solution([-6, -3, -2, -1, 0, 1, 3, 4, 5, 7, 8, 9, 10, 11, 14, 15, 17, 18, 19, 20])\n",
    "# returns \"-6,-3-1,3-5,7-11,14,15,17-20\""
   ]
  },
  {
   "cell_type": "markdown",
   "id": "checked-legend",
   "metadata": {},
   "source": [
    "# Resources\n",
    "\n"
   ]
  },
  {
   "cell_type": "markdown",
   "id": "optimum-avatar",
   "metadata": {},
   "source": [
    "- https://www.geeksforgeeks.org/python-check-if-element-exists-in-list-of-lists/\n",
    "- https://www.programiz.com/python-programming/exception-handling"
   ]
  },
  {
   "cell_type": "code",
   "execution_count": 3,
   "id": "secret-trouble",
   "metadata": {
    "ExecuteTime": {
     "end_time": "2021-06-30T18:04:13.678970Z",
     "start_time": "2021-06-30T18:04:13.665010Z"
    }
   },
   "outputs": [
    {
     "name": "stdout",
     "output_type": "stream",
     "text": [
      "True \n",
      " False\n"
     ]
    }
   ],
   "source": [
    "# Python code to demonstrate\n",
    "# finding whether element\n",
    "# exists in listof list\n",
    "from  itertools import chain\n",
    "  \n",
    "# initialising nested lists\n",
    "ini_list = [[1, 2, 5, 10, 7], \n",
    "            [4, 3, 4, 3, 21],\n",
    "            [45, 65, 8, 8, 9, 9]]\n",
    "  \n",
    "elem_to_find = 8\n",
    "elem_to_find1 = 0\n",
    "  \n",
    "# element exists in listof listor not?\n",
    "res1 = elem_to_find in chain(*ini_list)\n",
    "res2 = elem_to_find1 in chain(*ini_list)\n",
    "  \n",
    "# printing result\n",
    "print(str(res1), \"\\n\", str(res2))"
   ]
  }
 ],
 "metadata": {
  "kernelspec": {
   "display_name": "Python 3",
   "language": "python",
   "name": "python3"
  },
  "language_info": {
   "codemirror_mode": {
    "name": "ipython",
    "version": 3
   },
   "file_extension": ".py",
   "mimetype": "text/x-python",
   "name": "python",
   "nbconvert_exporter": "python",
   "pygments_lexer": "ipython3",
   "version": "3.7.3"
  }
 },
 "nbformat": 4,
 "nbformat_minor": 5
}
