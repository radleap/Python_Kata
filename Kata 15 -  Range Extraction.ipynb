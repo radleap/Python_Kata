{
 "cells": [
  {
   "cell_type": "markdown",
   "id": "located-airplane",
   "metadata": {
    "ExecuteTime": {
     "end_time": "2021-06-14T16:58:51.913082Z",
     "start_time": "2021-06-14T16:58:51.900116Z"
    }
   },
   "source": [
    "# Kata 15 - Range Extraction\n",
    "\n",
    "https://www.codewars.com/kata/51ba717bb08c1cd60f00002f/train/python"
   ]
  },
  {
   "cell_type": "markdown",
   "id": "outstanding-heath",
   "metadata": {},
   "source": [
    "### Instructions\n",
    "A format for expressing an ordered list of integers is to use a comma separated list of either \n",
    "\n",
    "- individual integers\n",
    "- or a range of integers denoted by the starting integer separated from the end integer in the range by a dash, '-'. The range includes all integers in the interval including both endpoints. It is not considered a range unless it spans at least 3 numbers. For example \"12,13,15-17\"\n",
    "\n",
    "Complete the solution so that it takes a list of integers in increasing order and returns a correctly formatted string in the range format.\n",
    "\n",
    "### Examples\n",
    "- solution([-6, -3, -2, -1, 0, 1, 3, 4, 5, 7, 8, 9, 10, 11, 14, 15, 17, 18, 19, 20])\n",
    "- returns \"-6,-3-1,3-5,7-11,14,15,17-20\"\n"
   ]
  },
  {
   "cell_type": "code",
   "execution_count": 2,
   "id": "auburn-house",
   "metadata": {
    "ExecuteTime": {
     "end_time": "2021-06-29T18:28:42.515566Z",
     "start_time": "2021-06-29T18:28:42.400262Z"
    }
   },
   "outputs": [],
   "source": [
    "import numpy as np\n",
    "\n",
    "def solution(args):\n",
    "    pass\n",
    "    # your code here"
   ]
  },
  {
   "cell_type": "code",
   "execution_count": 63,
   "id": "minimal-touch",
   "metadata": {
    "ExecuteTime": {
     "end_time": "2021-06-29T18:50:45.760573Z",
     "start_time": "2021-06-29T18:50:45.749116Z"
    }
   },
   "outputs": [
    {
     "data": {
      "text/plain": [
       "array([-6, -3, -2, -1,  0,  1,  3,  4,  5,  7,  8,  9, 10, 11, 14, 15, 17,\n",
       "       18, 19, 20])"
      ]
     },
     "metadata": {},
     "output_type": "display_data"
    },
    {
     "data": {
      "text/plain": [
       "array([-6, -5, -4, -3, -2, -1,  0,  1,  2,  3,  4,  5,  6,  7,  8,  9, 10,\n",
       "       11, 12, 13, 14, 15, 16, 17, 18, 19, 20])"
      ]
     },
     "metadata": {},
     "output_type": "display_data"
    }
   ],
   "source": [
    "original = np.array([-6, -3, -2, -1, 0, 1, 3, 4, 5, 7, 8, 9, 10, 11, 14, 15, 17, 18, 19, 20])\n",
    "display(original)\n",
    "complete = np.array(list(range(min(original),max(original)+1,1)))\n",
    "display(complete)"
   ]
  },
  {
   "cell_type": "code",
   "execution_count": 64,
   "id": "coupled-hungarian",
   "metadata": {
    "ExecuteTime": {
     "end_time": "2021-06-29T18:50:48.407506Z",
     "start_time": "2021-06-29T18:50:48.399527Z"
    }
   },
   "outputs": [
    {
     "data": {
      "text/plain": [
       "array([-6, None, None, -3, -2, -1, 0, 1, None, 3, 4, 5, None, 7, 8, 9, 10,\n",
       "       11, None, None, 14, 15, None, 17, 18, 19, 20], dtype=object)"
      ]
     },
     "metadata": {},
     "output_type": "display_data"
    }
   ],
   "source": [
    "new = []\n",
    "for ind,val in enumerate(complete):\n",
    "    if val in original:\n",
    "        new.append(val)\n",
    "    else:\n",
    "        new.append(None)\n",
    "new = np.array(new)\n",
    "display(new)"
   ]
  },
  {
   "cell_type": "code",
   "execution_count": 65,
   "id": "indian-bridal",
   "metadata": {
    "ExecuteTime": {
     "end_time": "2021-06-29T18:50:51.323693Z",
     "start_time": "2021-06-29T18:50:51.317710Z"
    }
   },
   "outputs": [],
   "source": [
    "# display(\"original:\", original)\n",
    "# display(\"complete: \",complete)\n",
    "# display(\"new: \",new)"
   ]
  },
  {
   "cell_type": "code",
   "execution_count": 108,
   "id": "south-contest",
   "metadata": {
    "ExecuteTime": {
     "end_time": "2021-06-29T19:18:01.165899Z",
     "start_time": "2021-06-29T19:18:01.148925Z"
    }
   },
   "outputs": [
    {
     "ename": "IndexError",
     "evalue": "list index out of range",
     "output_type": "error",
     "traceback": [
      "\u001b[1;31m---------------------------------------------------------------------------\u001b[0m",
      "\u001b[1;31mIndexError\u001b[0m                                Traceback (most recent call last)",
      "\u001b[1;32m<ipython-input-108-1ca8f9a744e1>\u001b[0m in \u001b[0;36m<module>\u001b[1;34m\u001b[0m\n\u001b[0;32m      1\u001b[0m \u001b[0mp\u001b[0m \u001b[1;33m=\u001b[0m \u001b[1;33m[\u001b[0m\u001b[1;36m1\u001b[0m\u001b[1;33m,\u001b[0m\u001b[1;36m2\u001b[0m\u001b[1;33m,\u001b[0m\u001b[1;36m3\u001b[0m\u001b[1;33m]\u001b[0m\u001b[1;33m\u001b[0m\u001b[1;33m\u001b[0m\u001b[0m\n\u001b[1;32m----> 2\u001b[1;33m \u001b[0mp\u001b[0m\u001b[1;33m[\u001b[0m\u001b[1;36m4\u001b[0m\u001b[1;33m]\u001b[0m\u001b[1;33m\u001b[0m\u001b[1;33m\u001b[0m\u001b[0m\n\u001b[0m",
      "\u001b[1;31mIndexError\u001b[0m: list index out of range"
     ]
    }
   ],
   "source": [
    "p = [1,2,3]\n",
    "p[4]"
   ]
  },
  {
   "cell_type": "code",
   "execution_count": 113,
   "id": "regional-relay",
   "metadata": {
    "ExecuteTime": {
     "end_time": "2021-06-29T19:22:28.857471Z",
     "start_time": "2021-06-29T19:22:28.844965Z"
    }
   },
   "outputs": [],
   "source": [
    "# # current deve\n",
    "# from  itertools import chain\n",
    "\n",
    "# main = list()\n",
    "# for i in range(len(new)):\n",
    "#     if new[i] in chain(*main): \n",
    "#         pass\n",
    "#     else:\n",
    "#         if new[i] != None:\n",
    "#             list_new = [new[i]]\n",
    "#             print(list_new)\n",
    "#             try:\n",
    "#                 count = 0\n",
    "#                 while count < len(new):\n",
    "#                     if new[i+1+count] <= len(new):\n",
    "#                         if new[i+1+count]==None:\n",
    "#                             print(\"breaks here: \",new[i+1+count])\n",
    "#                             main.append(list_new)\n",
    "#                             break\n",
    "#                         else:\n",
    "#                             #print(new[i+1])\n",
    "#                             list_new.append(new[i+1+count])\n",
    "#                         count = count + 1\n",
    "# #                 main.append(list_new)\n",
    "#                 #print(list_new)\n",
    "#             except: pass\n",
    "# main"
   ]
  },
  {
   "cell_type": "code",
   "execution_count": 139,
   "id": "informative-heather",
   "metadata": {
    "ExecuteTime": {
     "end_time": "2021-06-29T19:35:45.073038Z",
     "start_time": "2021-06-29T19:35:45.051091Z"
    }
   },
   "outputs": [
    {
     "name": "stdout",
     "output_type": "stream",
     "text": [
      "[-6]\n",
      "[-3, -2, -1, 0, 1]\n",
      "[3, 4, 5]\n",
      "[7, 8, 9, 10, 11]\n",
      "[14, 15]\n"
     ]
    },
    {
     "data": {
      "text/plain": [
       "[[-6], [-3, -2, -1, 0, 1], [3, 4, 5], [7, 8, 9, 10, 11], [14, 15]]"
      ]
     },
     "execution_count": 139,
     "metadata": {},
     "output_type": "execute_result"
    }
   ],
   "source": [
    "# unedited -- current deve\n",
    "from  itertools import chain\n",
    "\n",
    "main = list()\n",
    "for i in range(len(new)):\n",
    "    if new[i] in chain(*main): \n",
    "        pass\n",
    "    else:\n",
    "        if new[i] != None:\n",
    "            list_new = [new[i]]\n",
    "            try:\n",
    "                count = 0\n",
    "                while (count < len(new)) and (new[i+1+count]!=None): \n",
    "                        list_new.append(new[i+1+count])\n",
    "                        count = count + 1\n",
    "                main.append(list_new)\n",
    "                print(list_new)\n",
    "            except: pass\n",
    "main"
   ]
  },
  {
   "cell_type": "code",
   "execution_count": 117,
   "id": "linear-colombia",
   "metadata": {
    "ExecuteTime": {
     "end_time": "2021-06-29T19:23:52.518587Z",
     "start_time": "2021-06-29T19:23:52.490634Z"
    }
   },
   "outputs": [
    {
     "ename": "IndexError",
     "evalue": "index 28 is out of bounds for axis 0 with size 27",
     "output_type": "error",
     "traceback": [
      "\u001b[1;31m---------------------------------------------------------------------------\u001b[0m",
      "\u001b[1;31mIndexError\u001b[0m                                Traceback (most recent call last)",
      "\u001b[1;32m<ipython-input-117-f2a12ca89d96>\u001b[0m in \u001b[0;36m<module>\u001b[1;34m\u001b[0m\n\u001b[1;32m----> 1\u001b[1;33m \u001b[0mnew\u001b[0m\u001b[1;33m[\u001b[0m\u001b[1;36m28\u001b[0m\u001b[1;33m]\u001b[0m\u001b[1;33m!=\u001b[0m\u001b[1;32mNone\u001b[0m\u001b[1;33m\u001b[0m\u001b[1;33m\u001b[0m\u001b[0m\n\u001b[0m",
      "\u001b[1;31mIndexError\u001b[0m: index 28 is out of bounds for axis 0 with size 27"
     ]
    }
   ],
   "source": [
    "new[28]!=None"
   ]
  },
  {
   "cell_type": "code",
   "execution_count": null,
   "id": "wrapped-ebony",
   "metadata": {},
   "outputs": [],
   "source": [
    "####################Current Working Solution#########################3"
   ]
  },
  {
   "cell_type": "code",
   "execution_count": 125,
   "id": "occupied-mouth",
   "metadata": {
    "ExecuteTime": {
     "end_time": "2021-06-29T19:30:16.680951Z",
     "start_time": "2021-06-29T19:30:16.667992Z"
    }
   },
   "outputs": [
    {
     "name": "stdout",
     "output_type": "stream",
     "text": [
      "[-6]\n",
      "[-3, -2, -1, 0, 1]\n",
      "[3, 4, 5]\n",
      "[7, 8, 9, 10, 11]\n",
      "[14, 15]\n"
     ]
    },
    {
     "data": {
      "text/plain": [
       "[[-6], [-3, -2, -1, 0, 1], [3, 4, 5], [7, 8, 9, 10, 11], [14, 15]]"
      ]
     },
     "execution_count": 125,
     "metadata": {},
     "output_type": "execute_result"
    }
   ],
   "source": [
    "# unedited -- current deve\n",
    "from  itertools import chain\n",
    "\n",
    "main = list()\n",
    "for i in range(len(new)):\n",
    "    if new[i] in chain(*main): \n",
    "        pass\n",
    "    else:\n",
    "        if new[i] != None:\n",
    "            list_new = [new[i]]\n",
    "            try:\n",
    "                count = 0\n",
    "                while (count < len(new)) and (new[i+1+count]!=None): \n",
    "                        list_new.append(new[i+1+count])\n",
    "                        count = count + 1\n",
    "                main.append(list_new)\n",
    "                print(list_new)\n",
    "            except: pass\n",
    "main"
   ]
  },
  {
   "cell_type": "code",
   "execution_count": 141,
   "id": "married-difference",
   "metadata": {
    "ExecuteTime": {
     "end_time": "2021-06-29T19:38:09.528206Z",
     "start_time": "2021-06-29T19:38:09.515671Z"
    }
   },
   "outputs": [
    {
     "data": {
      "text/plain": [
       "'-6,-3-1,3-5,7-11,14,15,'"
      ]
     },
     "execution_count": 141,
     "metadata": {},
     "output_type": "execute_result"
    }
   ],
   "source": [
    "k = [2,3,4]\n",
    "def str_list(k):\n",
    "    '''takes a list and returns string formatting'''\n",
    "    if len(k)<3:\n",
    "        x = ','.join(str(x) for x in k)\n",
    "        return(x)\n",
    "    else:\n",
    "        x = str(min(k))+\"-\" + str(max(k))\n",
    "        return(x)\n",
    "#str_list(k)\n",
    "final = ''\n",
    "for i in main:\n",
    "    #print(str_list(i))\n",
    "    final = final + str_list(i) + \",\" ############# need to fix this\n",
    "final\n",
    "#returns \"-6,-3-1,3-5,7-11,14,15,17-20\""
   ]
  },
  {
   "cell_type": "markdown",
   "id": "checked-legend",
   "metadata": {},
   "source": [
    "# Resources\n",
    "\n"
   ]
  },
  {
   "cell_type": "markdown",
   "id": "breathing-girlfriend",
   "metadata": {},
   "source": [
    "https://www.geeksforgeeks.org/python-check-if-element-exists-in-list-of-lists/"
   ]
  },
  {
   "cell_type": "code",
   "execution_count": null,
   "id": "secret-trouble",
   "metadata": {
    "ExecuteTime": {
     "end_time": "2021-06-29T18:27:40.562283Z",
     "start_time": "2021-06-29T18:27:40.553308Z"
    }
   },
   "outputs": [],
   "source": [
    "\n",
    "# Python code to demonstrate\n",
    "# finding whether element\n",
    "# exists in listof list\n",
    "from  itertools import chain\n",
    "  \n",
    "# initialising nested lists\n",
    "ini_list = [[1, 2, 5, 10, 7], \n",
    "            [4, 3, 4, 3, 21],\n",
    "            [45, 65, 8, 8, 9, 9]]\n",
    "  \n",
    "elem_to_find = 8\n",
    "elem_to_find1 = 0\n",
    "  \n",
    "# element exists in listof listor not?\n",
    "res1 = elem_to_find in chain(*ini_list)\n",
    "res2 = elem_to_find1 in chain(*ini_list)\n",
    "  \n",
    "# printing result\n",
    "print(str(res1), \"\\n\", str(res2))"
   ]
  },
  {
   "cell_type": "code",
   "execution_count": null,
   "id": "protected-retail",
   "metadata": {},
   "outputs": [],
   "source": []
  }
 ],
 "metadata": {
  "kernelspec": {
   "display_name": "Python 3",
   "language": "python",
   "name": "python3"
  },
  "language_info": {
   "codemirror_mode": {
    "name": "ipython",
    "version": 3
   },
   "file_extension": ".py",
   "mimetype": "text/x-python",
   "name": "python",
   "nbconvert_exporter": "python",
   "pygments_lexer": "ipython3",
   "version": "3.7.3"
  }
 },
 "nbformat": 4,
 "nbformat_minor": 5
}
