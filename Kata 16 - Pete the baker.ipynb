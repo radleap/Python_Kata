{
 "cells": [
  {
   "cell_type": "markdown",
   "id": "located-airplane",
   "metadata": {
    "ExecuteTime": {
     "end_time": "2021-06-14T16:58:51.913082Z",
     "start_time": "2021-06-14T16:58:51.900116Z"
    }
   },
   "source": [
    "# Kata 16 - Pete the baker\n",
    "https://www.codewars.com/kata/525c65e51bf619685c000059/train/python"
   ]
  },
  {
   "cell_type": "markdown",
   "id": "outstanding-heath",
   "metadata": {},
   "source": [
    "### Instructions\n",
    "Pete likes to bake some cakes. He has some recipes and ingredients. Unfortunately he is not good in maths. Can you help him to find out, how many cakes he could bake considering his recipes?\n",
    "\n",
    "Write a function cakes(), which takes the recipe (object) and the available ingredients (also an object) and returns the maximum number of cakes Pete can bake (integer). For simplicity there are no units for the amounts (e.g. 1 lb of flour or 200 g of sugar are simply 1 or 200). Ingredients that are not present in the objects, can be considered as 0.\n",
    "\n",
    "### Examples\n",
    "- must return 2\n",
    "- cakes({flour: 500, sugar: 200, eggs: 1}, {flour: 1200, sugar: 1200, eggs: 5, milk: 200})\n",
    "\n",
    "\n",
    "-  must return 0\n",
    "- cakes({apples: 3, flour: 300, sugar: 150, milk: 100, oil: 100}, {sugar: 500, flour: 2000, milk: 2000})\n"
   ]
  },
  {
   "cell_type": "code",
   "execution_count": 1,
   "id": "middle-naples",
   "metadata": {
    "ExecuteTime": {
     "end_time": "2021-07-01T21:22:01.759017Z",
     "start_time": "2021-07-01T21:22:01.754036Z"
    }
   },
   "outputs": [],
   "source": [
    "# def cakes(recipe, available):\n",
    "#     return 5 # maximum number of cakes"
   ]
  },
  {
   "cell_type": "code",
   "execution_count": 2,
   "id": "earned-probe",
   "metadata": {
    "ExecuteTime": {
     "end_time": "2021-07-01T21:22:01.774974Z",
     "start_time": "2021-07-01T21:22:01.761011Z"
    }
   },
   "outputs": [],
   "source": [
    "#code"
   ]
  },
  {
   "cell_type": "code",
   "execution_count": 3,
   "id": "executive-coast",
   "metadata": {
    "ExecuteTime": {
     "end_time": "2021-07-01T21:22:01.790310Z",
     "start_time": "2021-07-01T21:22:01.776970Z"
    }
   },
   "outputs": [],
   "source": [
    "# test\n",
    "# recipe = {\"flour\": 500, \"sugar\": 200, \"eggs\": 1}\n",
    "# available = {\"flour\": 1200, \"sugar\": 1200, \"eggs\": 5, \"milk\": 200}\n",
    "# cake(recipe,available)"
   ]
  },
  {
   "cell_type": "markdown",
   "id": "checked-legend",
   "metadata": {},
   "source": [
    "# Resources\n",
    "\n"
   ]
  },
  {
   "cell_type": "code",
   "execution_count": null,
   "id": "hungry-hypothesis",
   "metadata": {},
   "outputs": [],
   "source": []
  }
 ],
 "metadata": {
  "kernelspec": {
   "display_name": "Python 3",
   "language": "python",
   "name": "python3"
  },
  "language_info": {
   "codemirror_mode": {
    "name": "ipython",
    "version": 3
   },
   "file_extension": ".py",
   "mimetype": "text/x-python",
   "name": "python",
   "nbconvert_exporter": "python",
   "pygments_lexer": "ipython3",
   "version": "3.7.3"
  }
 },
 "nbformat": 4,
 "nbformat_minor": 5
}
